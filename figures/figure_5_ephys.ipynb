{
 "cells": [
  {
   "cell_type": "markdown",
   "metadata": {},
   "source": [
    "# Figure 5: Electrophysiology"
   ]
  },
  {
   "cell_type": "code",
   "execution_count": 1,
   "metadata": {},
   "outputs": [],
   "source": [
    "from setup_nb import *"
   ]
  },
  {
   "cell_type": "markdown",
   "metadata": {},
   "source": [
    "### Data"
   ]
  },
  {
   "cell_type": "code",
   "execution_count": 2,
   "metadata": {
    "collapsed": true
   },
   "outputs": [],
   "source": [
    "ephys = pd.read_hdf(\"../data/electrophysiology_.data\", \"data\")\n",
    "\n",
    "ephys = pd.concat([ephys.xs('Phi', level='Stimulus', drop_level=False),\n",
    "                   ephys.xs('RPhi', level='Stimulus', drop_level=False)])"
   ]
  },
  {
   "cell_type": "code",
   "execution_count": 3,
   "metadata": {},
   "outputs": [
    {
     "data": {
      "text/html": [
       "<div>\n",
       "<style>\n",
       "    .dataframe thead tr:only-child th {\n",
       "        text-align: right;\n",
       "    }\n",
       "\n",
       "    .dataframe thead th {\n",
       "        text-align: left;\n",
       "    }\n",
       "\n",
       "    .dataframe tbody tr th {\n",
       "        vertical-align: top;\n",
       "    }\n",
       "</style>\n",
       "<table border=\"1\" class=\"dataframe\">\n",
       "  <thead>\n",
       "    <tr style=\"text-align: right;\">\n",
       "      <th></th>\n",
       "      <th></th>\n",
       "      <th></th>\n",
       "      <th></th>\n",
       "      <th>Voltage</th>\n",
       "    </tr>\n",
       "    <tr>\n",
       "      <th>Stimulus</th>\n",
       "      <th>Direction</th>\n",
       "      <th>Fly</th>\n",
       "      <th>Time</th>\n",
       "      <th></th>\n",
       "    </tr>\n",
       "  </thead>\n",
       "  <tbody>\n",
       "    <tr>\n",
       "      <th rowspan=\"5\" valign=\"top\">Phi</th>\n",
       "      <th rowspan=\"5\" valign=\"top\">PD</th>\n",
       "      <th rowspan=\"5\" valign=\"top\">1</th>\n",
       "      <th>0.000000</th>\n",
       "      <td>-0.223884</td>\n",
       "    </tr>\n",
       "    <tr>\n",
       "      <th>0.000501</th>\n",
       "      <td>-0.158764</td>\n",
       "    </tr>\n",
       "    <tr>\n",
       "      <th>0.001002</th>\n",
       "      <td>-0.122134</td>\n",
       "    </tr>\n",
       "    <tr>\n",
       "      <th>0.001503</th>\n",
       "      <td>-0.170974</td>\n",
       "    </tr>\n",
       "    <tr>\n",
       "      <th>0.002003</th>\n",
       "      <td>-0.170974</td>\n",
       "    </tr>\n",
       "  </tbody>\n",
       "</table>\n",
       "</div>"
      ],
      "text/plain": [
       "                                  Voltage\n",
       "Stimulus Direction Fly Time              \n",
       "Phi      PD        1   0.000000 -0.223884\n",
       "                       0.000501 -0.158764\n",
       "                       0.001002 -0.122134\n",
       "                       0.001503 -0.170974\n",
       "                       0.002003 -0.170974"
      ]
     },
     "execution_count": 3,
     "metadata": {},
     "output_type": "execute_result"
    }
   ],
   "source": [
    "ephys.head()"
   ]
  },
  {
   "cell_type": "code",
   "execution_count": 4,
   "metadata": {
    "collapsed": true
   },
   "outputs": [],
   "source": [
    "# Summary stats for traces, limited to initial 2s of stimulus presentation:\n",
    "evald = groupexcept(ephys, 'Time').aggregate(rangemean2, r=[0.5, 2.5], slicealong=3).reset_index()"
   ]
  },
  {
   "cell_type": "code",
   "execution_count": 5,
   "metadata": {},
   "outputs": [
    {
     "data": {
      "text/html": [
       "<div>\n",
       "<style>\n",
       "    .dataframe thead tr:only-child th {\n",
       "        text-align: right;\n",
       "    }\n",
       "\n",
       "    .dataframe thead th {\n",
       "        text-align: left;\n",
       "    }\n",
       "\n",
       "    .dataframe tbody tr th {\n",
       "        vertical-align: top;\n",
       "    }\n",
       "</style>\n",
       "<table border=\"1\" class=\"dataframe\">\n",
       "  <thead>\n",
       "    <tr style=\"text-align: right;\">\n",
       "      <th></th>\n",
       "      <th>Stimulus</th>\n",
       "      <th>Direction</th>\n",
       "      <th>Fly</th>\n",
       "      <th>Voltage</th>\n",
       "    </tr>\n",
       "  </thead>\n",
       "  <tbody>\n",
       "    <tr>\n",
       "      <th>0</th>\n",
       "      <td>Phi</td>\n",
       "      <td>ND</td>\n",
       "      <td>1</td>\n",
       "      <td>-0.374022</td>\n",
       "    </tr>\n",
       "    <tr>\n",
       "      <th>1</th>\n",
       "      <td>Phi</td>\n",
       "      <td>ND</td>\n",
       "      <td>2</td>\n",
       "      <td>0.073777</td>\n",
       "    </tr>\n",
       "    <tr>\n",
       "      <th>2</th>\n",
       "      <td>Phi</td>\n",
       "      <td>ND</td>\n",
       "      <td>3</td>\n",
       "      <td>-0.962598</td>\n",
       "    </tr>\n",
       "    <tr>\n",
       "      <th>3</th>\n",
       "      <td>Phi</td>\n",
       "      <td>ND</td>\n",
       "      <td>4</td>\n",
       "      <td>-2.655745</td>\n",
       "    </tr>\n",
       "    <tr>\n",
       "      <th>4</th>\n",
       "      <td>Phi</td>\n",
       "      <td>ND</td>\n",
       "      <td>5</td>\n",
       "      <td>-2.298861</td>\n",
       "    </tr>\n",
       "  </tbody>\n",
       "</table>\n",
       "</div>"
      ],
      "text/plain": [
       "  Stimulus Direction  Fly   Voltage\n",
       "0      Phi        ND    1 -0.374022\n",
       "1      Phi        ND    2  0.073777\n",
       "2      Phi        ND    3 -0.962598\n",
       "3      Phi        ND    4 -2.655745\n",
       "4      Phi        ND    5 -2.298861"
      ]
     },
     "execution_count": 5,
     "metadata": {},
     "output_type": "execute_result"
    }
   ],
   "source": [
    "evald.head()"
   ]
  },
  {
   "cell_type": "code",
   "execution_count": 6,
   "metadata": {},
   "outputs": [
    {
     "name": "stdout",
     "output_type": "stream",
     "text": [
      "23 flies fulfil selection criterion of 6mv depolarization upon PD Phi stimulation!\n"
     ]
    }
   ],
   "source": [
    "phi = evald[(evald.Stimulus == 'Phi') & (evald.Voltage > 6.)]\n",
    "select = evald[evald.Fly.isin(phi.Fly)]\n",
    "\n",
    "print \"{0} flies fulfil selection criterion of 6mv depolarization upon PD Phi stimulation!\".format(\n",
    "    len(select.Fly.unique()))"
   ]
  },
  {
   "cell_type": "code",
   "execution_count": 7,
   "metadata": {},
   "outputs": [
    {
     "data": {
      "text/html": [
       "<div>\n",
       "<style>\n",
       "    .dataframe thead tr:only-child th {\n",
       "        text-align: right;\n",
       "    }\n",
       "\n",
       "    .dataframe thead th {\n",
       "        text-align: left;\n",
       "    }\n",
       "\n",
       "    .dataframe tbody tr th {\n",
       "        vertical-align: top;\n",
       "    }\n",
       "</style>\n",
       "<table border=\"1\" class=\"dataframe\">\n",
       "  <thead>\n",
       "    <tr style=\"text-align: right;\">\n",
       "      <th></th>\n",
       "      <th>Stimulus</th>\n",
       "      <th>Direction</th>\n",
       "      <th>Fly</th>\n",
       "      <th>Time</th>\n",
       "      <th>Voltage</th>\n",
       "    </tr>\n",
       "  </thead>\n",
       "  <tbody>\n",
       "    <tr>\n",
       "      <th>17973</th>\n",
       "      <td>Phi</td>\n",
       "      <td>PD</td>\n",
       "      <td>4</td>\n",
       "      <td>0.000000</td>\n",
       "      <td>-1.599688</td>\n",
       "    </tr>\n",
       "    <tr>\n",
       "      <th>17974</th>\n",
       "      <td>Phi</td>\n",
       "      <td>PD</td>\n",
       "      <td>4</td>\n",
       "      <td>0.000501</td>\n",
       "      <td>-1.481658</td>\n",
       "    </tr>\n",
       "    <tr>\n",
       "      <th>17975</th>\n",
       "      <td>Phi</td>\n",
       "      <td>PD</td>\n",
       "      <td>4</td>\n",
       "      <td>0.001002</td>\n",
       "      <td>-1.469448</td>\n",
       "    </tr>\n",
       "    <tr>\n",
       "      <th>17976</th>\n",
       "      <td>Phi</td>\n",
       "      <td>PD</td>\n",
       "      <td>4</td>\n",
       "      <td>0.001503</td>\n",
       "      <td>-1.424678</td>\n",
       "    </tr>\n",
       "    <tr>\n",
       "      <th>17977</th>\n",
       "      <td>Phi</td>\n",
       "      <td>PD</td>\n",
       "      <td>4</td>\n",
       "      <td>0.002003</td>\n",
       "      <td>-1.367698</td>\n",
       "    </tr>\n",
       "  </tbody>\n",
       "</table>\n",
       "</div>"
      ],
      "text/plain": [
       "      Stimulus Direction  Fly      Time   Voltage\n",
       "17973      Phi        PD    4  0.000000 -1.599688\n",
       "17974      Phi        PD    4  0.000501 -1.481658\n",
       "17975      Phi        PD    4  0.001002 -1.469448\n",
       "17976      Phi        PD    4  0.001503 -1.424678\n",
       "17977      Phi        PD    4  0.002003 -1.367698"
      ]
     },
     "execution_count": 7,
     "metadata": {},
     "output_type": "execute_result"
    }
   ],
   "source": [
    "data_ = ephys.reset_index()\n",
    "\n",
    "filtered_traces = data_[data_.Fly.isin(phi.Fly)]\n",
    "filtered_traces.head()"
   ]
  },
  {
   "cell_type": "code",
   "execution_count": 8,
   "metadata": {
    "collapsed": true
   },
   "outputs": [],
   "source": [
    "def transform(x):\n",
    "    \n",
    "    f = 40  # Factor by which we downsample\n",
    "    \n",
    "    ds_time = downsample(x.Time.values, f)\n",
    "    ds_voltage = downsample(x.Voltage.values, f)\n",
    "    \n",
    "    new_df = pd.DataFrame(dict(Time=ds_time, Voltage=ds_voltage))\n",
    "    \n",
    "    return new_df\n",
    "\n",
    "final_traces = filtered_traces.groupby(['Stimulus', 'Direction', 'Fly'], as_index=True).apply(transform).reset_index()"
   ]
  },
  {
   "cell_type": "code",
   "execution_count": 9,
   "metadata": {},
   "outputs": [
    {
     "data": {
      "text/html": [
       "<div>\n",
       "<style>\n",
       "    .dataframe thead tr:only-child th {\n",
       "        text-align: right;\n",
       "    }\n",
       "\n",
       "    .dataframe thead th {\n",
       "        text-align: left;\n",
       "    }\n",
       "\n",
       "    .dataframe tbody tr th {\n",
       "        vertical-align: top;\n",
       "    }\n",
       "</style>\n",
       "<table border=\"1\" class=\"dataframe\">\n",
       "  <thead>\n",
       "    <tr style=\"text-align: right;\">\n",
       "      <th></th>\n",
       "      <th>Stimulus</th>\n",
       "      <th>Direction</th>\n",
       "      <th>Fly</th>\n",
       "      <th>level_3</th>\n",
       "      <th>Time</th>\n",
       "      <th>Voltage</th>\n",
       "    </tr>\n",
       "  </thead>\n",
       "  <tbody>\n",
       "    <tr>\n",
       "      <th>0</th>\n",
       "      <td>Phi</td>\n",
       "      <td>ND</td>\n",
       "      <td>4</td>\n",
       "      <td>0</td>\n",
       "      <td>0.009766</td>\n",
       "      <td>0.725112</td>\n",
       "    </tr>\n",
       "    <tr>\n",
       "      <th>1</th>\n",
       "      <td>Phi</td>\n",
       "      <td>ND</td>\n",
       "      <td>4</td>\n",
       "      <td>1</td>\n",
       "      <td>0.029800</td>\n",
       "      <td>0.081034</td>\n",
       "    </tr>\n",
       "    <tr>\n",
       "      <th>2</th>\n",
       "      <td>Phi</td>\n",
       "      <td>ND</td>\n",
       "      <td>4</td>\n",
       "      <td>2</td>\n",
       "      <td>0.049833</td>\n",
       "      <td>0.203134</td>\n",
       "    </tr>\n",
       "    <tr>\n",
       "      <th>3</th>\n",
       "      <td>Phi</td>\n",
       "      <td>ND</td>\n",
       "      <td>4</td>\n",
       "      <td>3</td>\n",
       "      <td>0.069866</td>\n",
       "      <td>-0.048392</td>\n",
       "    </tr>\n",
       "    <tr>\n",
       "      <th>4</th>\n",
       "      <td>Phi</td>\n",
       "      <td>ND</td>\n",
       "      <td>4</td>\n",
       "      <td>4</td>\n",
       "      <td>0.089900</td>\n",
       "      <td>0.218091</td>\n",
       "    </tr>\n",
       "  </tbody>\n",
       "</table>\n",
       "</div>"
      ],
      "text/plain": [
       "  Stimulus Direction  Fly  level_3      Time   Voltage\n",
       "0      Phi        ND    4        0  0.009766  0.725112\n",
       "1      Phi        ND    4        1  0.029800  0.081034\n",
       "2      Phi        ND    4        2  0.049833  0.203134\n",
       "3      Phi        ND    4        3  0.069866 -0.048392\n",
       "4      Phi        ND    4        4  0.089900  0.218091"
      ]
     },
     "execution_count": 9,
     "metadata": {},
     "output_type": "execute_result"
    }
   ],
   "source": [
    "final_traces.head()"
   ]
  },
  {
   "cell_type": "code",
   "execution_count": 10,
   "metadata": {},
   "outputs": [
    {
     "data": {
      "text/plain": [
       "array([ 4,  9, 19, 20, 30, 32, 35, 36, 40, 45, 47, 50, 54, 55, 56, 57, 58,\n",
       "       63, 64, 65, 66, 73, 77])"
      ]
     },
     "execution_count": 10,
     "metadata": {},
     "output_type": "execute_result"
    }
   ],
   "source": [
    "final_traces.Fly.unique()"
   ]
  },
  {
   "cell_type": "markdown",
   "metadata": {},
   "source": [
    "### Generic plot"
   ]
  },
  {
   "cell_type": "code",
   "execution_count": 11,
   "metadata": {
    "collapsed": true
   },
   "outputs": [],
   "source": [
    "def make_trace_panel(data, stim, ax, ylim, legend=False):\n",
    "    \n",
    "    current_data = data[data.Stimulus == stim]\n",
    "    \n",
    "    sb.tsplot(data=current_data, time=\"Time\", unit=\"Fly\", condition=\"Direction\", value=\"Voltage\",\n",
    "              ci=standard_ci, color=gt_colors, legend=True, err_kws={'edgecolor': 'none'},\n",
    "              ax=ax)\n",
    "    \n",
    "    ax.legend_.remove()\n",
    "    \n",
    "    ax.set_ylim(ylim)\n",
    "    \n",
    "    if legend:\n",
    "        ax.legend(loc=(0.25, 1.3))\n",
    "\n",
    "    sb.despine(ax=ax)\n",
    "    ax.axvspan(0.5, 2.5, edgecolor='none', facecolor='gray', zorder=0, alpha=0.075)\n",
    "\n",
    "#     l = ax.plot([0, 3], [0, 0], linestyle=\"--\", zorder=1, color=\"#444444\")\n",
    "#     l[0].set_dashes([1,1])\n",
    "\n",
    "    add_refline(ax, horizontal=True)\n",
    "    \n",
    "    ax.set_xlabel(\"Time (s)\")\n",
    "    ax.set_ylabel('Membrane\\nvoltage (mV)', labelpad=2.0)\n",
    "    \n",
    "    ax.set_yticks([-10, 0, 10, 20])\n",
    "    ax.set_xticks([0, 1, 2, 3])"
   ]
  },
  {
   "cell_type": "code",
   "execution_count": 12,
   "metadata": {
    "collapsed": true
   },
   "outputs": [],
   "source": [
    "def make_summary(data, ax, ylim):\n",
    "            \n",
    "#     sb.violinplot(x=\"Stimulus\", y=\"Voltage\", hue=\"Direction\", hue_order=[\"PD\", \"ND\"],\n",
    "#                   data=data.reset_index(), palette=gt_colors, ax=ax, linewidth=0.5)\n",
    "    \n",
    "    sb.boxplot(x=\"Stimulus\", y=\"Voltage\", hue=\"Direction\", hue_order=[\"PD\", \"ND\"],\n",
    "               data=data.reset_index(), palette=gt_colors, ax=ax, whis=np.inf)\n",
    "    \n",
    "    ax.legend_.remove()\n",
    "    ax.legend(loc=(0.6, 0.9))\n",
    "\n",
    "    sb.plt.xlabel('Stimulus')\n",
    "    sb.plt.ylabel('Membrane\\nvoltage (mV)')\n",
    "\n",
    "    ax.set_xticklabels(['Phi', 'Reverse'])\n",
    "\n",
    "    ax.set_ylim(ylim)\n",
    "\n",
    "    add_refline(ax, horizontal=True)\n",
    "    sb.despine(ax=ax)"
   ]
  },
  {
   "cell_type": "code",
   "execution_count": 13,
   "metadata": {
    "collapsed": true
   },
   "outputs": [],
   "source": [
    "def electrophysiology_figure():\n",
    "        \n",
    "    off = 1.7\n",
    "    rows = [0, 2.3, 4.7]\n",
    "    panelsize = (2, 2)\n",
    "\n",
    "    fig = sb.plt.figure(figsize=(3.5, 1.7))\n",
    "#     fig.suptitle(\"Leonhardt et al. (2017): Figure 5\", fontsize=14)\n",
    "\n",
    "    height = 1.3\n",
    "    \n",
    "    ylim = [-10, 20]\n",
    "    \n",
    "    ax = addaxis(fig, (off + rows[0], height), panelsize, letter=\"a\", nudge=0.5)\n",
    "    make_trace_panel(final_traces, \"Phi\", ax, legend=False, ylim=ylim)\n",
    "    ax.set_title(\"Phi\")\n",
    "    \n",
    "    ax = addaxis(fig, (off + rows[1], height), panelsize, letter=\"b\", nudge=0.0)\n",
    "    make_trace_panel(final_traces, \"RPhi\", ax, legend=False, ylim=ylim)\n",
    "    remove_axis(ax, y=True)\n",
    "    ax.set_title(\"Reverse-phi\")\n",
    "    \n",
    "    ax = addaxis(fig, (off + rows[2], height), (1.5, 2), letter=\"c\", nudge=0.0)\n",
    "    make_summary(select, ax, ylim=ylim)\n",
    "    remove_axis(ax, y=True)\n",
    "  \n",
    "    fig.set_frameon(False)\n",
    "    fig.savefig(\"../output/Fig5.tif\", format=\"tiff\", dpi=standard_dpi)"
   ]
  },
  {
   "cell_type": "markdown",
   "metadata": {},
   "source": [
    "### Plots"
   ]
  },
  {
   "cell_type": "code",
   "execution_count": 14,
   "metadata": {},
   "outputs": [
    {
     "data": {
      "image/png": "[encoded data removed]",
      "text/plain": [
       "<matplotlib.figure.Figure at 0x12d9c7c10>"
      ]
     },
     "metadata": {
      "image/png": {
       "height": 109,
       "width": 238
      }
     },
     "output_type": "display_data"
    }
   ],
   "source": [
    "electrophysiology_figure()"
   ]
  }
 ],
 "metadata": {
  "anaconda-cloud": {},
  "kernelspec": {
   "display_name": "Python 2",
   "language": "python",
   "name": "python2"
  },
  "language_info": {
   "codemirror_mode": {
    "name": "ipython",
    "version": 2
   },
   "file_extension": ".py",
   "mimetype": "text/x-python",
   "name": "python",
   "nbconvert_exporter": "python",
   "pygments_lexer": "ipython2",
   "version": "2.7.13"
  }
 },
 "nbformat": 4,
 "nbformat_minor": 1
}
