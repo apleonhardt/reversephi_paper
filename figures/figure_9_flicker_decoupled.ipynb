{
 "cells": [
  {
   "cell_type": "markdown",
   "metadata": {},
   "source": [
    "# Figure 9: Decoupling flicker and motion"
   ]
  },
  {
   "cell_type": "code",
   "execution_count": 1,
   "metadata": {
    "collapsed": true
   },
   "outputs": [],
   "source": [
    "from setup_nb import *\n",
    "from numba import jit"
   ]
  },
  {
   "cell_type": "code",
   "execution_count": 2,
   "metadata": {
    "collapsed": true
   },
   "outputs": [],
   "source": [
    "from detector.implementations import TwoQ, FourQ\n",
    "from detector.stimulus import fast_discrete_phi"
   ]
  },
  {
   "cell_type": "markdown",
   "metadata": {},
   "source": [
    "### Behavioral data"
   ]
  },
  {
   "cell_type": "code",
   "execution_count": 3,
   "metadata": {
    "collapsed": true
   },
   "outputs": [],
   "source": [
    "data_ = pd.read_hdf(\"../data/decoupled.data\", \"data\")\n",
    "\n",
    "# These data were preprocessed/stored at 100Hz, but the manifest has 20Hz -- so everything's off by a linear factor of 5\n",
    "data = preprocess_standard(data_, filter=None) * 5.0\n",
    "\n",
    "evald = groupexcept(data, 'time').aggregate(rangemean, r=slice(1.5, 3.0))\n",
    "mat_data = evald.rotation.groupby([\"jump_f\", \"switch_f\"]).mean().unstack().values\n",
    "mat_data = mat_data / np.abs(mat_data.flatten()).max()"
   ]
  },
  {
   "cell_type": "markdown",
   "metadata": {},
   "source": [
    "### Simulations"
   ]
  },
  {
   "cell_type": "markdown",
   "metadata": {},
   "source": [
    "#### Parameters"
   ]
  },
  {
   "cell_type": "code",
   "execution_count": 4,
   "metadata": {
    "collapsed": true
   },
   "outputs": [],
   "source": [
    "dt = 0.001\n",
    "\n",
    "### Stimulus\n",
    "\n",
    "base_args = {\n",
    "    \"duration\": 10.0,\n",
    "    \"start\": 0.5,\n",
    "    \"stop\": 9.5,\n",
    "    \"lam\": 90.0,\n",
    "    \"jump_width\": 4.0,\n",
    "    \"phase_motion\": 1.0,\n",
    "    \"phase_flicker\": 1.0,\n",
    "    \"recfield\": 240.0,\n",
    "    \"delta_phi\": 4.0,\n",
    "    \"dt\": dt,\n",
    "}\n",
    "\n",
    "contrast = 0.25\n",
    "offset = 1.3\n",
    "\n",
    "fs_motion = np.array([0.0, 8.0, 16.0, 32.0, 64.0])\n",
    "fs_flicker = np.array([0.0, 8.0, 16.0, 32.0, 64.0])\n",
    "\n",
    "### Detectors\n",
    "\n",
    "tau_hp = 0.25\n",
    "tau_lp = 0.05\n",
    "\n",
    "d_2q_dc = TwoQ(tau_hp=(tau_hp, tau_hp), tau_lp=(tau_lp, tau_lp), dc=(0.1, 0.1), dt=dt)\n",
    "d_4q = FourQ(tau_hp=tau_hp, tau_lp=tau_lp, dc=0.0, dt=dt)"
   ]
  },
  {
   "cell_type": "markdown",
   "metadata": {},
   "source": [
    "#### Run"
   ]
  },
  {
   "cell_type": "code",
   "execution_count": 5,
   "metadata": {
    "collapsed": true
   },
   "outputs": [],
   "source": [
    "def run(detector):\n",
    "        \n",
    "    sys.stdout.write(\"\\n\"); sys.stdout.flush()\n",
    "    \n",
    "    c = np.zeros((len(fs_motion), len(fs_flicker)))\n",
    "    \n",
    "    for m_idx, f_motion in enumerate(fs_motion):\n",
    "        for f_idx, f_flicker in enumerate(fs_flicker):\n",
    "                        \n",
    "            stim = fast_discrete_phi(f_motion=f_motion, f_flicker=f_flicker, **base_args)\n",
    "            stim = np.maximum(contrast * stim + offset, 0)\n",
    "        \n",
    "            output = detector.detect(stim)\n",
    "            c[m_idx, f_idx] = output.mean()\n",
    "            sys.stdout.write(\".\"); sys.stdout.flush()\n",
    "        \n",
    "    return c / np.abs(c.flatten()).max()"
   ]
  },
  {
   "cell_type": "code",
   "execution_count": 6,
   "metadata": {},
   "outputs": [
    {
     "name": "stdout",
     "output_type": "stream",
     "text": [
      "\n",
      ".........................\n",
      "........................."
     ]
    }
   ],
   "source": [
    "mat_2q = run(d_2q_dc)\n",
    "mat_4q = run(d_4q)"
   ]
  },
  {
   "cell_type": "markdown",
   "metadata": {},
   "source": [
    "### Panels"
   ]
  },
  {
   "cell_type": "code",
   "execution_count": 7,
   "metadata": {
    "collapsed": true
   },
   "outputs": [],
   "source": [
    "def plot_matrix(mat, ax, clip=1.0, saturate=False, cax=None):\n",
    "    \n",
    "    if saturate:\n",
    "        mat = np.tanh(2.2 * mat)\n",
    "\n",
    "    pc = ax.pcolormesh(mat.T, cmap=\"PRGn\", vmin=-clip, vmax=clip, linewidth=0, rasterized=True)\n",
    "\n",
    "    ax.set_xticklabels(fs_motion.astype(np.int))\n",
    "    ax.set_xticks(np.arange(len(fs_motion)) + 0.5)\n",
    "\n",
    "    ax.set_yticklabels(fs_flicker.astype(np.int))\n",
    "    ax.set_yticks(np.arange(len(fs_flicker)) + 0.5)\n",
    "\n",
    "    ax.invert_yaxis()\n",
    "    ax.set_xlabel(\"Step frequency (Hz)\")\n",
    "    ax.set_ylabel(\"Flicker\\nfrequency (Hz)\")\n",
    "    \n",
    "    if cax:\n",
    "        cb = sb.plt.colorbar(pc, cax=cax)\n",
    "        cb.set_label(\"Normalized\\nresponse (a.u.)\", labelpad=-9)\n",
    "        cb.set_ticks([-clip, 0, clip])\n",
    "        cb.set_ticklabels([\"< {0}\".format(-clip), \"0\", \"> {0}\".format(clip)])\n",
    "        cax.tick_params(axis='both', which='major', pad=2)\n",
    "\n",
    "    sb.despine(ax=ax)"
   ]
  },
  {
   "cell_type": "code",
   "execution_count": 25,
   "metadata": {
    "collapsed": true
   },
   "outputs": [],
   "source": [
    "def plot_behavior(ax):\n",
    "    \n",
    "    sb.pointplot(data=evald.reset_index(), x=\"jump_f\", y=\"rotation\", hue=\"switch_f\",\n",
    "                 ci=standard_ci, ax=ax, palette=sb.color_palette(\"GnBu_d\"))\n",
    "    \n",
    "    ax.legend_.remove()\n",
    "    ax.legend(loc=(1.1, 0.0))\n",
    "    ax.legend_.set_title(\"$\\mathregular{f_{Flicker}}$ (Hz)\", prop={'size': 7})\n",
    "    for t in ax.legend_.get_texts():\n",
    "        t.set_text(\"{0}\".format(int(float(t.get_text()))))\n",
    "    ax.set_xticklabels(fs_motion.astype(np.int))\n",
    "    \n",
    "    ax.set_ylim([-50, 175])\n",
    "    ax.set_yticks([-50, 0, 50, 100, 150])\n",
    "    \n",
    "    for handle in ax.legend_.legendHandles:\n",
    "        handle.set_sizes([20.0])\n",
    "    \n",
    "    ax.set_xlabel(\"Step frequency (Hz)\")\n",
    "    ax.set_ylabel(u\"Turning speed (°/s)\")\n",
    "    \n",
    "    add_refline(ax, horizontal=True)\n",
    "    sb.despine(ax=ax)"
   ]
  },
  {
   "cell_type": "code",
   "execution_count": 20,
   "metadata": {
    "collapsed": true
   },
   "outputs": [],
   "source": [
    "def plot_diag(ax):\n",
    "    \n",
    "    x = np.arange(mat_data.shape[0])\n",
    "    \n",
    "    ax.plot(x, mat_data.diagonal(), label=\"Behavior\", color=\"black\")\n",
    "    ax.plot(x, mat_4q.diagonal(), label=\"4Q\", color=\"gray\")\n",
    "    ax.plot(x, mat_2q.diagonal(), label=\"2Q\", color=\"red\")\n",
    "    \n",
    "    ax.set_xticks(x)\n",
    "    ax.set_xticklabels(fs_motion.astype(np.uint))\n",
    "    \n",
    "    ax.set_ylim([-0.5, 0.3])\n",
    "    ax.set_yticks([-0.4, -0.2, 0, 0.2])\n",
    "    \n",
    "    ax.set_xlabel(\"Update frequency (Hz)\")\n",
    "    ax.set_ylabel(\"Normalized\\nresponse (a.u.)\")\n",
    "    \n",
    "    ax.legend(loc=(0.4, 0.9))\n",
    "    \n",
    "    add_refline(ax, horizontal=True)\n",
    "    \n",
    "    sb.despine(ax=ax)"
   ]
  },
  {
   "cell_type": "code",
   "execution_count": 27,
   "metadata": {
    "collapsed": true
   },
   "outputs": [],
   "source": [
    "def flicker_figure():\n",
    "        \n",
    "    saturate = False\n",
    "    clip = 0.5\n",
    "    \n",
    "    panelsize = (2, 2)\n",
    "\n",
    "    fig = sb.plt.figure(figsize=(4.4, 3))\n",
    "\n",
    "    height = 5\n",
    "    \n",
    "    ax = addaxis(fig, (1.8, height), panelsize, letter=\"a\", nudge=0.4)\n",
    "    plot_behavior(ax)\n",
    "    \n",
    "    ax = addaxis(fig, (6.9, height), panelsize, letter=\"b\", nudge=0.6)\n",
    "    cax = addaxis(fig, (9.2, height), (0.15, 2), letter=\"\")\n",
    "    plot_matrix(mat_data, ax, saturate=saturate, clip=clip, cax=cax)\n",
    "    ax.set_title(\"Behavior\")\n",
    "    \n",
    "    height = 1.3\n",
    "    \n",
    "    ax = addaxis(fig, (1.8, height), panelsize, letter=\"c\", nudge=0.4)\n",
    "    plot_matrix(mat_4q, ax, saturate=saturate, clip=clip)\n",
    "    ax.set_title(\"4Q\")\n",
    "    \n",
    "    ax = addaxis(fig, (4.4, height), panelsize, letter=\"d\")\n",
    "    plot_matrix(mat_2q, ax, saturate=saturate, clip=clip)\n",
    "    remove_axis(ax, y=True)\n",
    "    ax.set_title(\"2Q\")\n",
    "    \n",
    "    ax = addaxis(fig, (8.2, height), panelsize, letter=\"e\", nudge=0.6)\n",
    "    plot_diag(ax)\n",
    "    \n",
    "    fig.set_frameon(False)\n",
    "    fig.savefig(\"../output/Fig9.tif\", format=\"tiff\", dpi=standard_dpi)"
   ]
  },
  {
   "cell_type": "markdown",
   "metadata": {},
   "source": [
    "### Plot"
   ]
  },
  {
   "cell_type": "code",
   "execution_count": 26,
   "metadata": {},
   "outputs": [
    {
     "data": {
      "image/png": "[encoded data removed]",
      "text/plain": [
       "<matplotlib.figure.Figure at 0x13645f4d0>"
      ]
     },
     "metadata": {
      "image/png": {
       "height": 214,
       "width": 296
      }
     },
     "output_type": "display_data"
    }
   ],
   "source": [
    "flicker_figure()"
   ]
  }
 ],
 "metadata": {
  "anaconda-cloud": {},
  "kernelspec": {
   "display_name": "Python 2",
   "language": "python",
   "name": "python2"
  },
  "language_info": {
   "codemirror_mode": {
    "name": "ipython",
    "version": 2
   },
   "file_extension": ".py",
   "mimetype": "text/x-python",
   "name": "python",
   "nbconvert_exporter": "python",
   "pygments_lexer": "ipython2",
   "version": "2.7.13"
  }
 },
 "nbformat": 4,
 "nbformat_minor": 1
}
