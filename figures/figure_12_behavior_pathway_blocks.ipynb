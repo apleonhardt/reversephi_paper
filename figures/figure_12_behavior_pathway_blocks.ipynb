{
 "cells": [
  {
   "cell_type": "markdown",
   "metadata": {},
   "source": [
    "# Figure 12: Behaviour for block (T4 or T5)"
   ]
  },
  {
   "cell_type": "code",
   "execution_count": 1,
   "metadata": {
    "collapsed": true,
    "scrolled": true
   },
   "outputs": [],
   "source": [
    "from setup_nb import *\n",
    "from collections import defaultdict"
   ]
  },
  {
   "cell_type": "markdown",
   "metadata": {},
   "source": [
    "### Data"
   ]
  },
  {
   "cell_type": "code",
   "execution_count": 2,
   "metadata": {
    "collapsed": true
   },
   "outputs": [],
   "source": [
    "# General preprocessing (filtering + left-right subtraction):\n",
    "\n",
    "def preprocess(data):\n",
    "    \n",
    "    # First, we take the difference between left- and right-directed stimuli and apply a soft low-pass filter:\n",
    "    data = preprocess_standard(data, filter=0.1)\n",
    "    \n",
    "    # For evaluation, we tange the mean rotation over a certain range:\n",
    "    evald = groupexcept(data, 'time').aggregate(rangemean, r=slice(1.5, 3.0))\n",
    "    \n",
    "    return data, evald"
   ]
  },
  {
   "cell_type": "code",
   "execution_count": 3,
   "metadata": {
    "collapsed": true
   },
   "outputs": [],
   "source": [
    "data_rphi, evald_rphi = preprocess(pd.read_hdf(\"../data/behav_rphi.data\"))\n",
    "data_ultra, evald_ultra = preprocess(pd.read_hdf(\"../data/behav_ultra.data\"))"
   ]
  },
  {
   "cell_type": "code",
   "execution_count": 4,
   "metadata": {},
   "outputs": [
    {
     "data": {
      "text/html": [
       "<div>\n",
       "<style>\n",
       "    .dataframe thead tr:only-child th {\n",
       "        text-align: right;\n",
       "    }\n",
       "\n",
       "    .dataframe thead th {\n",
       "        text-align: left;\n",
       "    }\n",
       "\n",
       "    .dataframe tbody tr th {\n",
       "        vertical-align: top;\n",
       "    }\n",
       "</style>\n",
       "<table border=\"1\" class=\"dataframe\">\n",
       "  <thead>\n",
       "    <tr style=\"text-align: right;\">\n",
       "      <th></th>\n",
       "      <th></th>\n",
       "      <th></th>\n",
       "      <th></th>\n",
       "      <th></th>\n",
       "      <th>rotation</th>\n",
       "      <th>forward</th>\n",
       "    </tr>\n",
       "    <tr>\n",
       "      <th>genotype</th>\n",
       "      <th>flyname</th>\n",
       "      <th>velocity</th>\n",
       "      <th>lambda</th>\n",
       "      <th>time</th>\n",
       "      <th></th>\n",
       "      <th></th>\n",
       "    </tr>\n",
       "  </thead>\n",
       "  <tbody>\n",
       "    <tr>\n",
       "      <th rowspan=\"5\" valign=\"top\">F1 TNT x X154 (A)</th>\n",
       "      <th rowspan=\"5\" valign=\"top\">20161213_fly44_exp01</th>\n",
       "      <th rowspan=\"5\" valign=\"top\">16.0</th>\n",
       "      <th rowspan=\"5\" valign=\"top\">30.0</th>\n",
       "      <th>0.00</th>\n",
       "      <td>19.708440</td>\n",
       "      <td>0.699834</td>\n",
       "    </tr>\n",
       "    <tr>\n",
       "      <th>0.05</th>\n",
       "      <td>19.708440</td>\n",
       "      <td>0.699834</td>\n",
       "    </tr>\n",
       "    <tr>\n",
       "      <th>0.10</th>\n",
       "      <td>24.983210</td>\n",
       "      <td>0.695719</td>\n",
       "    </tr>\n",
       "    <tr>\n",
       "      <th>0.15</th>\n",
       "      <td>18.990888</td>\n",
       "      <td>0.697857</td>\n",
       "    </tr>\n",
       "    <tr>\n",
       "      <th>0.20</th>\n",
       "      <td>13.902132</td>\n",
       "      <td>0.795165</td>\n",
       "    </tr>\n",
       "  </tbody>\n",
       "</table>\n",
       "</div>"
      ],
      "text/plain": [
       "                                                              rotation  \\\n",
       "genotype          flyname              velocity lambda time              \n",
       "F1 TNT x X154 (A) 20161213_fly44_exp01 16.0     30.0   0.00  19.708440   \n",
       "                                                       0.05  19.708440   \n",
       "                                                       0.10  24.983210   \n",
       "                                                       0.15  18.990888   \n",
       "                                                       0.20  13.902132   \n",
       "\n",
       "                                                              forward  \n",
       "genotype          flyname              velocity lambda time            \n",
       "F1 TNT x X154 (A) 20161213_fly44_exp01 16.0     30.0   0.00  0.699834  \n",
       "                                                       0.05  0.699834  \n",
       "                                                       0.10  0.695719  \n",
       "                                                       0.15  0.697857  \n",
       "                                                       0.20  0.795165  "
      ]
     },
     "execution_count": 4,
     "metadata": {},
     "output_type": "execute_result"
    }
   ],
   "source": [
    "data_rphi.head()"
   ]
  },
  {
   "cell_type": "code",
   "execution_count": 5,
   "metadata": {},
   "outputs": [
    {
     "data": {
      "text/html": [
       "<div>\n",
       "<style>\n",
       "    .dataframe thead tr:only-child th {\n",
       "        text-align: right;\n",
       "    }\n",
       "\n",
       "    .dataframe thead th {\n",
       "        text-align: left;\n",
       "    }\n",
       "\n",
       "    .dataframe tbody tr th {\n",
       "        vertical-align: top;\n",
       "    }\n",
       "</style>\n",
       "<table border=\"1\" class=\"dataframe\">\n",
       "  <thead>\n",
       "    <tr style=\"text-align: right;\">\n",
       "      <th></th>\n",
       "      <th></th>\n",
       "      <th></th>\n",
       "      <th></th>\n",
       "      <th></th>\n",
       "      <th></th>\n",
       "      <th></th>\n",
       "      <th></th>\n",
       "      <th></th>\n",
       "      <th>rotation</th>\n",
       "      <th>forward</th>\n",
       "    </tr>\n",
       "    <tr>\n",
       "      <th>genotype</th>\n",
       "      <th>flyname</th>\n",
       "      <th>reverse</th>\n",
       "      <th>jump_width</th>\n",
       "      <th>dc</th>\n",
       "      <th>jump_gap</th>\n",
       "      <th>contrast</th>\n",
       "      <th>lambda</th>\n",
       "      <th>time</th>\n",
       "      <th></th>\n",
       "      <th></th>\n",
       "    </tr>\n",
       "  </thead>\n",
       "  <tbody>\n",
       "    <tr>\n",
       "      <th rowspan=\"5\" valign=\"top\">F1 TNT x id114</th>\n",
       "      <th rowspan=\"5\" valign=\"top\">20170120_fly09_exp01</th>\n",
       "      <th rowspan=\"5\" valign=\"top\">0.0</th>\n",
       "      <th rowspan=\"5\" valign=\"top\">4.0</th>\n",
       "      <th rowspan=\"5\" valign=\"top\">100.0</th>\n",
       "      <th rowspan=\"5\" valign=\"top\">1.0</th>\n",
       "      <th rowspan=\"5\" valign=\"top\">80.0</th>\n",
       "      <th rowspan=\"5\" valign=\"top\">30.0</th>\n",
       "      <th>0.00</th>\n",
       "      <td>29.047853</td>\n",
       "      <td>0.634308</td>\n",
       "    </tr>\n",
       "    <tr>\n",
       "      <th>0.05</th>\n",
       "      <td>29.047853</td>\n",
       "      <td>0.634308</td>\n",
       "    </tr>\n",
       "    <tr>\n",
       "      <th>0.10</th>\n",
       "      <td>19.855762</td>\n",
       "      <td>0.593042</td>\n",
       "    </tr>\n",
       "    <tr>\n",
       "      <th>0.15</th>\n",
       "      <td>6.916277</td>\n",
       "      <td>0.599059</td>\n",
       "    </tr>\n",
       "    <tr>\n",
       "      <th>0.20</th>\n",
       "      <td>-4.724132</td>\n",
       "      <td>0.615815</td>\n",
       "    </tr>\n",
       "  </tbody>\n",
       "</table>\n",
       "</div>"
      ],
      "text/plain": [
       "                                                                                             rotation  \\\n",
       "genotype       flyname              reverse jump_width dc    jump_gap contrast lambda time              \n",
       "F1 TNT x id114 20170120_fly09_exp01 0.0     4.0        100.0 1.0      80.0     30.0   0.00  29.047853   \n",
       "                                                                                      0.05  29.047853   \n",
       "                                                                                      0.10  19.855762   \n",
       "                                                                                      0.15   6.916277   \n",
       "                                                                                      0.20  -4.724132   \n",
       "\n",
       "                                                                                             forward  \n",
       "genotype       flyname              reverse jump_width dc    jump_gap contrast lambda time            \n",
       "F1 TNT x id114 20170120_fly09_exp01 0.0     4.0        100.0 1.0      80.0     30.0   0.00  0.634308  \n",
       "                                                                                      0.05  0.634308  \n",
       "                                                                                      0.10  0.593042  \n",
       "                                                                                      0.15  0.599059  \n",
       "                                                                                      0.20  0.615815  "
      ]
     },
     "execution_count": 5,
     "metadata": {},
     "output_type": "execute_result"
    }
   ],
   "source": [
    "data_ultra.head()"
   ]
  },
  {
   "cell_type": "code",
   "execution_count": 6,
   "metadata": {
    "collapsed": true
   },
   "outputs": [],
   "source": [
    "gts_rphi_t4 = [\"F1 TNT x X154 (A)\", \"F1 id548 x X154 (D)\", \"F1 TNT x id548 (B)\"]\n",
    "gts_rphi_t5 = [\"F1 TNT x X154 (A)\", \"F1 id114 x X154 (E)\", \"F1 TNT x id114 (C)\"]\n",
    "\n",
    "gts_ultra = ['F1 X154 x TNT', 'F1 TNT x id548', 'F1 TNT x id114']"
   ]
  },
  {
   "cell_type": "code",
   "execution_count": 15,
   "metadata": {},
   "outputs": [
    {
     "name": "stdout",
     "output_type": "stream",
     "text": [
      "Reverse Phi condition (T4 block):\n",
      "F1 TNT x X154 (A): N=12\n",
      "F1 id548 x X154 (D): N=18\n",
      "F1 TNT x id548 (B): N=14\n",
      "Reverse Phi condition (T5 block):\n",
      "F1 TNT x X154 (A): N=12\n",
      "F1 id114 x X154 (E): N=12\n",
      "F1 TNT x id114 (C): N=15\n",
      "Ultra condition:\n",
      "F1 X154 x TNT: N=11\n",
      "F1 TNT x id548: N=12\n",
      "F1 TNT x id114: N=13\n"
     ]
    }
   ],
   "source": [
    "d1, d2 = data_ultra.reset_index(), data_rphi.reset_index()\n",
    "    \n",
    "print \"Reverse Phi condition (T4 block):\"\n",
    "for gt in gts_rphi_t4:\n",
    "    n = len(d2[d2.genotype == gt].flyname.unique())\n",
    "    print \"{0}: N={1}\".format(gt, n)\n",
    "    \n",
    "print \"Reverse Phi condition (T5 block):\"\n",
    "for gt in gts_rphi_t5:\n",
    "    n = len(d2[d2.genotype == gt].flyname.unique())\n",
    "    print \"{0}: N={1}\".format(gt, n)\n",
    "    \n",
    "print \"Ultra condition:\"\n",
    "for gt in gts_ultra:\n",
    "    n = len(d1[d1.genotype == gt].flyname.unique())\n",
    "    print \"{0}: N={1}\".format(gt, n)"
   ]
  },
  {
   "cell_type": "markdown",
   "metadata": {},
   "source": [
    "### Statistics"
   ]
  },
  {
   "cell_type": "code",
   "execution_count": 75,
   "metadata": {
    "collapsed": true
   },
   "outputs": [],
   "source": [
    "def ttest_velocity(my_evald, block, comps):\n",
    "    \n",
    "    vels = my_evald.index.levels[2].values\n",
    "    \n",
    "    alpha = 0.05 / len(vels)\n",
    "    sigs = []\n",
    "    \n",
    "    for vel in vels:\n",
    "                \n",
    "        blocks = my_evald.loc[pd.IndexSlice[block, :, vel, 90.0], :].rotation.values\n",
    "        control1 = my_evald.loc[pd.IndexSlice[comps[0], :, vel, 90.0], :].rotation.values\n",
    "        control2 = my_evald.loc[pd.IndexSlice[comps[1], :, vel, 90.0], :].rotation.values\n",
    "        \n",
    "        ts1, p1 = ttest_ind(blocks, control1, equal_var=False)\n",
    "        ts2, p2 = ttest_ind(blocks, control2, equal_var=False)\n",
    "        \n",
    "        sig = (p1 < alpha) and (p2 < alpha)\n",
    "        \n",
    "        print \"Velocity {0} deg/s: t_gal4 = {1}, p_gal4 = {2}, t_eff = {3}, p_eff = {4}\".format(vel, ts1, p1, ts2, p2)\n",
    "        \n",
    "        sigs.append(sig)\n",
    "        \n",
    "    return sigs"
   ]
  },
  {
   "cell_type": "code",
   "execution_count": 73,
   "metadata": {
    "collapsed": true
   },
   "outputs": [],
   "source": [
    "def ttest_velocity_single(my_evald, block, comp):\n",
    "    \n",
    "    vels = [8, 1]\n",
    "    \n",
    "    alpha = 0.05 / len(vels)\n",
    "    sigs = []\n",
    "    \n",
    "    for vel in vels:\n",
    "                \n",
    "        blocks = my_evald.loc[pd.IndexSlice[block, :, 1.0, :, :, vel, :, 90.0], :].rotation.values\n",
    "        control1 = my_evald.loc[pd.IndexSlice[comp, :, 1.0, :, :, vel, :, 90.0], :].rotation.values\n",
    "        \n",
    "        ts1, p1 = ttest_ind(blocks, control1, equal_var=False)\n",
    "        \n",
    "        sig = (p1 < alpha)\n",
    "        \n",
    "        print \"Velocity {0} jw: t_eff = {1}, p_eff = {2}\".format(vel, ts1, p1)\n",
    "        \n",
    "        sigs.append(sig)\n",
    "        \n",
    "    return sigs"
   ]
  },
  {
   "cell_type": "code",
   "execution_count": 76,
   "metadata": {},
   "outputs": [
    {
     "name": "stdout",
     "output_type": "stream",
     "text": [
      "Velocity 16.0 deg/s: t_gal4 = 3.45975711497, p_gal4 = 0.0017314282384, t_eff = 4.11852944503, p_eff = 0.000531825595917\n",
      "Velocity 32.0 deg/s: t_gal4 = 2.42230486387, p_gal4 = 0.0241411736859, t_eff = 3.5345621465, p_eff = 0.00201758428337\n",
      "Velocity 64.0 deg/s: t_gal4 = 0.976795908869, p_gal4 = 0.339297888435, t_eff = 2.30082689161, p_eff = 0.0313247962364\n",
      "Velocity 128.0 deg/s: t_gal4 = -5.08043436974, p_gal4 = 1.86512582056e-05, t_eff = -6.10512948879, p_eff = 2.83076485284e-06\n",
      "Velocity 256.0 deg/s: t_gal4 = -3.27861138972, p_gal4 = 0.00278956960887, t_eff = -6.31025119874, p_eff = 1.61226571373e-06\n"
     ]
    },
    {
     "data": {
      "text/plain": [
       "[True, False, False, True, True]"
      ]
     },
     "execution_count": 76,
     "metadata": {},
     "output_type": "execute_result"
    }
   ],
   "source": [
    "ttest_velocity(evald_rphi, \"F1 TNT x id548 (B)\", (\"F1 id548 x X154 (D)\", \"F1 TNT x X154 (A)\"))"
   ]
  },
  {
   "cell_type": "code",
   "execution_count": 77,
   "metadata": {},
   "outputs": [
    {
     "name": "stdout",
     "output_type": "stream",
     "text": [
      "Velocity 16.0 deg/s: t_gal4 = 1.92821900908, p_gal4 = 0.0662966631038, t_eff = 4.01826893759, p_eff = 0.000687338312072\n",
      "Velocity 32.0 deg/s: t_gal4 = 1.46473938146, p_gal4 = 0.156263400004, t_eff = 3.5914407569, p_eff = 0.00176794301766\n",
      "Velocity 64.0 deg/s: t_gal4 = 1.3744768912, p_gal4 = 0.182284353459, t_eff = 3.68862267098, p_eff = 0.00125780205456\n",
      "Velocity 128.0 deg/s: t_gal4 = -5.86943810785, p_gal4 = 9.09235435653e-06, t_eff = -5.0653105737, p_eff = 5.64586545822e-05\n",
      "Velocity 256.0 deg/s: t_gal4 = -4.79056128531, p_gal4 = 0.000311536460391, t_eff = -9.15246259271, p_eff = 1.03957738646e-07\n"
     ]
    },
    {
     "data": {
      "text/plain": [
       "[False, False, False, True, True]"
      ]
     },
     "execution_count": 77,
     "metadata": {},
     "output_type": "execute_result"
    }
   ],
   "source": [
    "ttest_velocity(evald_rphi, \"F1 TNT x id114 (C)\", (\"F1 id114 x X154 (E)\", \"F1 TNT x X154 (A)\"))"
   ]
  },
  {
   "cell_type": "code",
   "execution_count": 78,
   "metadata": {},
   "outputs": [
    {
     "name": "stdout",
     "output_type": "stream",
     "text": [
      "Velocity 8 jw: t_eff = 1.33336994944, p_eff = 0.2002866651\n",
      "Velocity 1 jw: t_eff = 0.320951018324, p_eff = 0.751823698219\n"
     ]
    },
    {
     "data": {
      "text/plain": [
       "[False, False]"
      ]
     },
     "execution_count": 78,
     "metadata": {},
     "output_type": "execute_result"
    }
   ],
   "source": [
    "ttest_velocity_single(evald_ultra, \"F1 TNT x id548\", \"F1 X154 x TNT\")"
   ]
  },
  {
   "cell_type": "code",
   "execution_count": 79,
   "metadata": {},
   "outputs": [
    {
     "name": "stdout",
     "output_type": "stream",
     "text": [
      "Velocity 8 jw: t_eff = 2.83864368628, p_eff = 0.0118218251135\n",
      "Velocity 1 jw: t_eff = -4.80159687908, p_eff = 0.000173266516905\n"
     ]
    },
    {
     "data": {
      "text/plain": [
       "[True, True]"
      ]
     },
     "execution_count": 79,
     "metadata": {},
     "output_type": "execute_result"
    }
   ],
   "source": [
    "ttest_velocity_single(evald_ultra, \"F1 TNT x id114\", \"F1 X154 x TNT\")"
   ]
  },
  {
   "cell_type": "markdown",
   "metadata": {},
   "source": [
    "### Generic plot"
   ]
  },
  {
   "cell_type": "code",
   "execution_count": 8,
   "metadata": {
    "collapsed": true
   },
   "outputs": [],
   "source": [
    "def make_summary_panel(data, genotypes, lam, ax, legend=False, ylim=[-100, 100]):\n",
    "    \n",
    "    data = data.reset_index()\n",
    "    data = data[(data[\"lambda\"] == lam) & (data.genotype.isin(genotypes))]\n",
    "        \n",
    "    sb.pointplot(\"velocity\", \"rotation\", hue=\"genotype\", data=data, palette=gt_colors,\n",
    "                 scale=0.75, ax=ax, ci=standard_ci, hue_order=genotypes)\n",
    "    \n",
    "    add_refline(ax, horizontal=True)\n",
    "    \n",
    "    ax.set_xlabel(u\"Pattern\\nspeed (°/s)\", labelpad=0)\n",
    "    ax.set_ylabel(u\"Turning speed (°/s)\")\n",
    "    \n",
    "    ax.legend_.remove()\n",
    "    \n",
    "    if legend:\n",
    "        \n",
    "        hs, ls_ = ax.get_legend_handles_labels()\n",
    "        ls = [gt_alias[x] for x in ls_]\n",
    "                \n",
    "        lorder = [ls_.index(gt) for gt in genotypes]\n",
    "        hs, ls = [hs[idx] for idx in lorder], [ls[idx] for idx in lorder]\n",
    "        \n",
    "        ax.legend(hs, ls, loc=[0.0, 1.1], ncol=1)\n",
    "        \n",
    "        ax.legend_.set_title(\"\")\n",
    "    \n",
    "    ax.set_ylim(ylim)\n",
    "    \n",
    "    for label in ax.get_xticklabels():\n",
    "        label.set_rotation(45)\n",
    "        label.set_horizontalalignment('center')\n",
    "\n",
    "    yloc = mpl.ticker.MaxNLocator(5)\n",
    "    ax.yaxis.set_major_locator(yloc)\n",
    "    \n",
    "    ax.set_xticklabels([16, 32, 64, 128, 256])\n",
    "    \n",
    "    sb.despine(ax=ax)\n",
    "    ax.patch.set_alpha(0.0)"
   ]
  },
  {
   "cell_type": "code",
   "execution_count": 83,
   "metadata": {
    "collapsed": true
   },
   "outputs": [],
   "source": [
    "def make_bar_summary(data, genotypes, lam, gaps, ax, ylim=[-100, 100]):\n",
    "    \n",
    "    data = data.reset_index()\n",
    "    \n",
    "    # Calculate effective velocity (assuming 144Hz update rate and 4 deg jump width):\n",
    "    data[\"velocity\"] = 144 * 4.0 / data[\"jump_gap\"]\n",
    "    \n",
    "    data = data[(data[\"lambda\"] == lam) & (data.genotype.isin(genotypes))\\\n",
    "                & (data.jump_gap.isin(gaps)) & (data.reverse == 1.0)]\n",
    "    \n",
    "    sb.barplot(\"velocity\", \"rotation\", hue=\"genotype\", data=data, palette=gt_colors,\n",
    "                   ax=ax, ci=standard_ci, hue_order=genotypes)\n",
    "    \n",
    "    add_refline(ax, horizontal=True)\n",
    "    \n",
    "    ax.set_xlabel(u\"Pattern\\nspeed (°/s)\")\n",
    "    ax.set_ylabel(u\"Turning speed (°/s)\")\n",
    "    \n",
    "    ax.legend_.remove()\n",
    "    \n",
    "    ax.set_ylim(ylim)\n",
    "    \n",
    "    yloc = mpl.ticker.MaxNLocator(5)\n",
    "    ax.yaxis.set_major_locator(yloc)\n",
    "    \n",
    "    ax.set_xticklabels([72, 576])\n",
    "    \n",
    "    sb.despine(ax=ax)"
   ]
  },
  {
   "cell_type": "code",
   "execution_count": 99,
   "metadata": {
    "collapsed": true
   },
   "outputs": [],
   "source": [
    "def add_asterisks(ax, x_locs, y_locs):\n",
    "    for x, y in zip(x_locs, y_locs):\n",
    "        ax.text(x, y, \"*\", horizontalalignment=\"center\", verticalalignment=\"center\")"
   ]
  },
  {
   "cell_type": "code",
   "execution_count": 145,
   "metadata": {},
   "outputs": [],
   "source": [
    "def behavior_figure(lambda_pick):\n",
    "    \n",
    "    off = 1.5\n",
    "    off_v = -22.3\n",
    "    rows = [0, 2.5, 5.0]\n",
    "    panelsize = (2, 2)\n",
    "\n",
    "    fig = sb.plt.figure(figsize=(3.2, 2))\n",
    "\n",
    "    ylim_summary = [-60, 60]\n",
    "\n",
    "    height = 24 + off_v\n",
    "\n",
    "    # T4 silencing:\n",
    "        \n",
    "    ax = addaxis(fig, (off + rows[0], height), panelsize, letter=\"a\", nudge=0.1)\n",
    "    make_summary_panel(evald_rphi, gts_rphi_t4, lambda_pick, ax, ylim=ylim_summary, legend=True)\n",
    "    vals = evald_rphi.loc[pd.IndexSlice[\"F1 TNT x id548 (B)\", :, :, 90.0], :].groupby(\"velocity\").mean().rotation.values\n",
    "    add_asterisks(ax, [0, 3, 4], vals[[0, 3, 4]] + np.array([15, -20, -25]))\n",
    "    \n",
    "    # T5 silencing:\n",
    "    \n",
    "    ax = addaxis(fig, (off + rows[1], height), panelsize, letter=\"b\", nudge=0.1)\n",
    "    make_summary_panel(evald_rphi, gts_rphi_t5, lambda_pick, ax, ylim=ylim_summary, legend=True)\n",
    "    remove_axis(ax, y=True)\n",
    "    vals = evald_rphi.loc[pd.IndexSlice[\"F1 TNT x id114 (C)\", :, :, 90.0], :].groupby(\"velocity\").mean().rotation.values\n",
    "    add_asterisks(ax, [3, 4], vals[[3, 4]] + np.array([-20, -20]))\n",
    "    \n",
    "    # Ultra:\n",
    "    \n",
    "    ax = addaxis(fig, (off + rows[2], height), (1, 2), letter=\"c\", nudge=0.1)\n",
    "    make_bar_summary(evald_ultra, gts_ultra, lambda_pick, [8, 1], ax, ylim=ylim_summary)\n",
    "    remove_axis(ax, y=True)\n",
    "    add_asterisks(ax, [0.28, 1.28], [-50, 20])\n",
    "    \n",
    "    fig.set_frameon(False)\n",
    "    fig.savefig(\"../output/Fig12.tif\", format=\"tiff\", dpi=standard_dpi)"
   ]
  },
  {
   "cell_type": "markdown",
   "metadata": {},
   "source": [
    "### Plots"
   ]
  },
  {
   "cell_type": "code",
   "execution_count": 146,
   "metadata": {},
   "outputs": [
    {
     "data": {
      "image/png": "[encoded data removed]",
      "text/plain": [
       "<matplotlib.figure.Figure at 0x11c83a450>"
      ]
     },
     "metadata": {
      "image/png": {
       "height": 137,
       "width": 216
      }
     },
     "output_type": "display_data"
    }
   ],
   "source": [
    "behavior_figure(lambda_pick=90.0)"
   ]
  }
 ],
 "metadata": {
  "anaconda-cloud": {},
  "kernelspec": {
   "display_name": "Python 2",
   "language": "python",
   "name": "python2"
  },
  "language_info": {
   "codemirror_mode": {
    "name": "ipython",
    "version": 2
   },
   "file_extension": ".py",
   "mimetype": "text/x-python",
   "name": "python",
   "nbconvert_exporter": "python",
   "pygments_lexer": "ipython2",
   "version": "2.7.13"
  }
 },
 "nbformat": 4,
 "nbformat_minor": 1
}
