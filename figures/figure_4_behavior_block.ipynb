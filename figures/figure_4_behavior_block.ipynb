{
 "cells": [
  {
   "cell_type": "markdown",
   "metadata": {},
   "source": [
    "# Figure 4: Behavior in block flies"
   ]
  },
  {
   "cell_type": "code",
   "execution_count": 31,
   "metadata": {
    "collapsed": true,
    "scrolled": true
   },
   "outputs": [],
   "source": [
    "from setup_nb import *\n",
    "from detector.stimulus import DiscretePhi"
   ]
  },
  {
   "cell_type": "markdown",
   "metadata": {},
   "source": [
    "### Data"
   ]
  },
  {
   "cell_type": "code",
   "execution_count": 2,
   "metadata": {
    "collapsed": true
   },
   "outputs": [],
   "source": [
    "# General preprocessing (filtering + left-right subtraction):\n",
    "\n",
    "def preprocess(data):\n",
    "    \n",
    "    # First, we take the difference between left- and right-directed stimuli and apply a soft low-pass filter:\n",
    "    data = preprocess_standard(data, filter=None)\n",
    "    \n",
    "    # For evaluation, we tange the mean rotation over a certain range:\n",
    "    evald = groupexcept(data, 'time').aggregate(rangemean, r=slice(1.5, 3.0))\n",
    "    \n",
    "    return data, evald"
   ]
  },
  {
   "cell_type": "code",
   "execution_count": 3,
   "metadata": {
    "collapsed": true
   },
   "outputs": [],
   "source": [
    "data_phi, evald_phi = preprocess(pd.read_hdf(\"../data/behav_phi.data\"))\n",
    "data_rphi, evald_rphi = preprocess(pd.read_hdf(\"../data/behav_rphi.data\"))"
   ]
  },
  {
   "cell_type": "code",
   "execution_count": 4,
   "metadata": {},
   "outputs": [
    {
     "data": {
      "text/html": [
       "<div>\n",
       "<style>\n",
       "    .dataframe thead tr:only-child th {\n",
       "        text-align: right;\n",
       "    }\n",
       "\n",
       "    .dataframe thead th {\n",
       "        text-align: left;\n",
       "    }\n",
       "\n",
       "    .dataframe tbody tr th {\n",
       "        vertical-align: top;\n",
       "    }\n",
       "</style>\n",
       "<table border=\"1\" class=\"dataframe\">\n",
       "  <thead>\n",
       "    <tr style=\"text-align: right;\">\n",
       "      <th></th>\n",
       "      <th></th>\n",
       "      <th></th>\n",
       "      <th></th>\n",
       "      <th></th>\n",
       "      <th>rotation</th>\n",
       "      <th>forward</th>\n",
       "    </tr>\n",
       "    <tr>\n",
       "      <th>genotype</th>\n",
       "      <th>flyname</th>\n",
       "      <th>velocity</th>\n",
       "      <th>lambda</th>\n",
       "      <th>time</th>\n",
       "      <th></th>\n",
       "      <th></th>\n",
       "    </tr>\n",
       "  </thead>\n",
       "  <tbody>\n",
       "    <tr>\n",
       "      <th rowspan=\"5\" valign=\"top\">F1 X154 x GMRSS00324</th>\n",
       "      <th rowspan=\"5\" valign=\"top\">20141014_fly19_exp01</th>\n",
       "      <th rowspan=\"5\" valign=\"top\">16.0</th>\n",
       "      <th rowspan=\"5\" valign=\"top\">30.0</th>\n",
       "      <th>0.00</th>\n",
       "      <td>5.061143</td>\n",
       "      <td>1.273541</td>\n",
       "    </tr>\n",
       "    <tr>\n",
       "      <th>0.05</th>\n",
       "      <td>5.061143</td>\n",
       "      <td>1.273541</td>\n",
       "    </tr>\n",
       "    <tr>\n",
       "      <th>0.10</th>\n",
       "      <td>4.861128</td>\n",
       "      <td>1.255370</td>\n",
       "    </tr>\n",
       "    <tr>\n",
       "      <th>0.15</th>\n",
       "      <td>12.328827</td>\n",
       "      <td>1.290292</td>\n",
       "    </tr>\n",
       "    <tr>\n",
       "      <th>0.20</th>\n",
       "      <td>0.205664</td>\n",
       "      <td>1.243801</td>\n",
       "    </tr>\n",
       "  </tbody>\n",
       "</table>\n",
       "</div>"
      ],
      "text/plain": [
       "                                                                 rotation  \\\n",
       "genotype             flyname              velocity lambda time              \n",
       "F1 X154 x GMRSS00324 20141014_fly19_exp01 16.0     30.0   0.00   5.061143   \n",
       "                                                          0.05   5.061143   \n",
       "                                                          0.10   4.861128   \n",
       "                                                          0.15  12.328827   \n",
       "                                                          0.20   0.205664   \n",
       "\n",
       "                                                                 forward  \n",
       "genotype             flyname              velocity lambda time            \n",
       "F1 X154 x GMRSS00324 20141014_fly19_exp01 16.0     30.0   0.00  1.273541  \n",
       "                                                          0.05  1.273541  \n",
       "                                                          0.10  1.255370  \n",
       "                                                          0.15  1.290292  \n",
       "                                                          0.20  1.243801  "
      ]
     },
     "execution_count": 4,
     "metadata": {},
     "output_type": "execute_result"
    }
   ],
   "source": [
    "data_phi.head()"
   ]
  },
  {
   "cell_type": "code",
   "execution_count": 5,
   "metadata": {},
   "outputs": [
    {
     "data": {
      "text/html": [
       "<div>\n",
       "<style>\n",
       "    .dataframe thead tr:only-child th {\n",
       "        text-align: right;\n",
       "    }\n",
       "\n",
       "    .dataframe thead th {\n",
       "        text-align: left;\n",
       "    }\n",
       "\n",
       "    .dataframe tbody tr th {\n",
       "        vertical-align: top;\n",
       "    }\n",
       "</style>\n",
       "<table border=\"1\" class=\"dataframe\">\n",
       "  <thead>\n",
       "    <tr style=\"text-align: right;\">\n",
       "      <th></th>\n",
       "      <th></th>\n",
       "      <th></th>\n",
       "      <th></th>\n",
       "      <th>rotation</th>\n",
       "      <th>forward</th>\n",
       "    </tr>\n",
       "    <tr>\n",
       "      <th>genotype</th>\n",
       "      <th>flyname</th>\n",
       "      <th>velocity</th>\n",
       "      <th>lambda</th>\n",
       "      <th></th>\n",
       "      <th></th>\n",
       "    </tr>\n",
       "  </thead>\n",
       "  <tbody>\n",
       "    <tr>\n",
       "      <th rowspan=\"5\" valign=\"top\">F1 X154 x GMRSS00324</th>\n",
       "      <th rowspan=\"5\" valign=\"top\">20141014_fly19_exp01</th>\n",
       "      <th rowspan=\"2\" valign=\"top\">16.0</th>\n",
       "      <th>30.0</th>\n",
       "      <td>86.583666</td>\n",
       "      <td>1.307684</td>\n",
       "    </tr>\n",
       "    <tr>\n",
       "      <th>90.0</th>\n",
       "      <td>48.685103</td>\n",
       "      <td>1.234065</td>\n",
       "    </tr>\n",
       "    <tr>\n",
       "      <th rowspan=\"2\" valign=\"top\">32.0</th>\n",
       "      <th>30.0</th>\n",
       "      <td>121.753067</td>\n",
       "      <td>1.222568</td>\n",
       "    </tr>\n",
       "    <tr>\n",
       "      <th>90.0</th>\n",
       "      <td>97.475439</td>\n",
       "      <td>1.190915</td>\n",
       "    </tr>\n",
       "    <tr>\n",
       "      <th>64.0</th>\n",
       "      <th>30.0</th>\n",
       "      <td>166.410940</td>\n",
       "      <td>1.167249</td>\n",
       "    </tr>\n",
       "  </tbody>\n",
       "</table>\n",
       "</div>"
      ],
      "text/plain": [
       "                                                             rotation  \\\n",
       "genotype             flyname              velocity lambda               \n",
       "F1 X154 x GMRSS00324 20141014_fly19_exp01 16.0     30.0     86.583666   \n",
       "                                                   90.0     48.685103   \n",
       "                                          32.0     30.0    121.753067   \n",
       "                                                   90.0     97.475439   \n",
       "                                          64.0     30.0    166.410940   \n",
       "\n",
       "                                                            forward  \n",
       "genotype             flyname              velocity lambda            \n",
       "F1 X154 x GMRSS00324 20141014_fly19_exp01 16.0     30.0    1.307684  \n",
       "                                                   90.0    1.234065  \n",
       "                                          32.0     30.0    1.222568  \n",
       "                                                   90.0    1.190915  \n",
       "                                          64.0     30.0    1.167249  "
      ]
     },
     "execution_count": 5,
     "metadata": {},
     "output_type": "execute_result"
    }
   ],
   "source": [
    "evald_phi.head()"
   ]
  },
  {
   "cell_type": "code",
   "execution_count": 6,
   "metadata": {},
   "outputs": [
    {
     "name": "stdout",
     "output_type": "stream",
     "text": [
      "['F1 X154 x GMRSS00324', 'F1 id528 x GMRSS00324', 'F1 id528 x X154'] ['F1 X154 x GMRSS00324', 'F1 id528 x GMRSS00324', 'F1 id528 x X154']\n"
     ]
    }
   ],
   "source": [
    "# Check on genotypes:\n",
    "\n",
    "# gts_phi = data_phi.reset_index().genotype.unique()\n",
    "# gts_rphi = data_rphi.reset_index().genotype.unique()\n",
    "\n",
    "gts_phi = ['F1 X154 x GMRSS00324', 'F1 id528 x GMRSS00324', 'F1 id528 x X154']\n",
    "gts_rphi = ['F1 X154 x GMRSS00324', 'F1 id528 x GMRSS00324', 'F1 id528 x X154']\n",
    "\n",
    "print gts_phi, gts_rphi"
   ]
  },
  {
   "cell_type": "code",
   "execution_count": 18,
   "metadata": {},
   "outputs": [
    {
     "name": "stdout",
     "output_type": "stream",
     "text": [
      "Phi condition:\n",
      "F1 X154 x GMRSS00324: N=12\n",
      "F1 id528 x GMRSS00324: N=11\n",
      "F1 id528 x X154: N=12\n",
      "Reverse Phi condition:\n",
      "F1 X154 x GMRSS00324: N=11\n",
      "F1 id528 x GMRSS00324: N=10\n",
      "F1 id528 x X154: N=10\n"
     ]
    }
   ],
   "source": [
    "d1, d2 = data_phi.reset_index(), data_rphi.reset_index()\n",
    "\n",
    "print \"Phi condition:\"\n",
    "for gt in gts_phi:\n",
    "    n = len(d1[d1.genotype == gt].flyname.unique())\n",
    "    print \"{0}: N={1}\".format(gt, n)\n",
    "    \n",
    "print \"Reverse Phi condition:\"\n",
    "for gt in gts_rphi:\n",
    "    n = len(d2[d2.genotype == gt].flyname.unique())\n",
    "    print \"{0}: N={1}\".format(gt, n)"
   ]
  },
  {
   "cell_type": "markdown",
   "metadata": {},
   "source": [
    "### Statistics"
   ]
  },
  {
   "cell_type": "code",
   "execution_count": 54,
   "metadata": {
    "collapsed": true
   },
   "outputs": [],
   "source": [
    "def ttest_velocity(my_evald):\n",
    "    \n",
    "    vels = my_evald.index.levels[2].values\n",
    "    \n",
    "    alpha = 0.05 / len(vels)\n",
    "    sigs = []\n",
    "    \n",
    "    for vel in vels:\n",
    "        \n",
    "        block = my_evald.loc[pd.IndexSlice[\"F1 id528 x GMRSS00324\", :, vel, 90.0], :].rotation.values\n",
    "        control1 = my_evald.loc[pd.IndexSlice[\"F1 X154 x GMRSS00324\", :, vel, 90.0], :].rotation.values\n",
    "        control2 = my_evald.loc[pd.IndexSlice[\"F1 id528 x X154\", :, vel, 90.0], :].rotation.values\n",
    "        \n",
    "        ts1, p1 = ttest_ind(block, control1, equal_var=False)\n",
    "        ts2, p2 = ttest_ind(block, control2, equal_var=False)\n",
    "        \n",
    "        sig = (p1 < alpha) and (p2 < alpha)\n",
    "        \n",
    "        print \"Velocity {0} deg/s: t_t4t5 = {1}, p_t4t5 = {2}, t_shi = {3}, p_shi = {4}\".format(vel, ts1, p1, ts2, p2)\n",
    "        \n",
    "        sigs.append(sig)\n",
    "        \n",
    "    return sigs"
   ]
  },
  {
   "cell_type": "code",
   "execution_count": 55,
   "metadata": {},
   "outputs": [
    {
     "name": "stdout",
     "output_type": "stream",
     "text": [
      "Velocity 16.0 deg/s: t_t4t5 = -8.46472826274, p_t4t5 = 1.91033648801e-06, t_shi = -8.66331677476, p_shi = 3.77403936892e-07\n",
      "Velocity 32.0 deg/s: t_t4t5 = -11.8758568168, p_t4t5 = 6.7061728437e-08, t_shi = -13.3575747887, p_shi = 4.70095304598e-09\n",
      "Velocity 64.0 deg/s: t_t4t5 = -14.0165161215, p_t4t5 = 1.13126179204e-08, t_shi = -12.9189490595, p_shi = 1.27531333541e-08\n",
      "Velocity 128.0 deg/s: t_t4t5 = -15.4985670373, p_t4t5 = 3.31076228977e-09, t_shi = -15.1047988185, p_shi = 1.43409999871e-09\n",
      "Velocity 256.0 deg/s: t_t4t5 = -14.9500598735, p_t4t5 = 3.61030559914e-09, t_shi = -12.2890845646, p_shi = 2.1481812781e-08\n"
     ]
    },
    {
     "data": {
      "text/plain": [
       "[True, True, True, True, True]"
      ]
     },
     "execution_count": 55,
     "metadata": {},
     "output_type": "execute_result"
    }
   ],
   "source": [
    "ttest_velocity(evald_phi)"
   ]
  },
  {
   "cell_type": "code",
   "execution_count": 56,
   "metadata": {},
   "outputs": [
    {
     "name": "stdout",
     "output_type": "stream",
     "text": [
      "Velocity 16.0 deg/s: t_t4t5 = 9.10710128156, p_t4t5 = 1.38022335174e-06, t_shi = 11.7690653492, p_shi = 5.76563472046e-08\n",
      "Velocity 32.0 deg/s: t_t4t5 = 10.7443683761, p_t4t5 = 1.03330547423e-07, t_shi = 12.652858309, p_shi = 4.1626909902e-09\n",
      "Velocity 64.0 deg/s: t_t4t5 = 11.4940597473, p_t4t5 = 1.36817899572e-07, t_shi = 11.7407388521, p_shi = 5.46285413995e-08\n",
      "Velocity 128.0 deg/s: t_t4t5 = 3.75261882647, p_t4t5 = 0.00334523231781, t_shi = 2.68302244759, p_shi = 0.0220924705454\n",
      "Velocity 256.0 deg/s: t_t4t5 = -5.18331203993, p_t4t5 = 0.000336458227037, t_shi = -4.76725372189, p_shi = 0.000637863482604\n"
     ]
    },
    {
     "data": {
      "text/plain": [
       "[True, True, True, False, True]"
      ]
     },
     "execution_count": 56,
     "metadata": {},
     "output_type": "execute_result"
    }
   ],
   "source": [
    "ttest_velocity(evald_rphi)"
   ]
  },
  {
   "cell_type": "markdown",
   "metadata": {},
   "source": [
    "### Generic plot"
   ]
  },
  {
   "cell_type": "code",
   "execution_count": 8,
   "metadata": {
    "collapsed": true
   },
   "outputs": [],
   "source": [
    "def make_trace_panel(data, genotypes, lam, vel, ax, ylim=[-200.0, 200.0], legend=False, title=\"\"):\n",
    "    \n",
    "    data = data.reset_index()\n",
    "    data = data[(data[\"velocity\"] == vel) & (data[\"lambda\"] == lam) & (data.genotype.isin(genotypes))]\n",
    "                \n",
    "    sb.tsplot(data, time=\"time\", unit=\"flyname\", condition=\"genotype\", value=\"rotation\",\n",
    "              ci=standard_ci, color=gt_colors, legend=legend, err_kws={'edgecolor': 'none'},\n",
    "              ax=ax)\n",
    "    \n",
    "    ax.set_ylim(ylim)\n",
    "    ax.set_xlim([0.0, 3.5])\n",
    "    \n",
    "    if legend:\n",
    "        \n",
    "        hs, ls = ax.get_legend_handles_labels()\n",
    "        ls = [gt_alias[x] for x in ls]\n",
    "        \n",
    "        ax.legend_.remove()\n",
    "        \n",
    "        lorder = [0, 2, 1]\n",
    "        hs, ls = [hs[idx] for idx in lorder], [ls[idx] for idx in lorder]\n",
    "        \n",
    "        ax.legend(hs, ls, loc=[0.5, 0.75], ncol=1)\n",
    "        \n",
    "        ax.legend_.set_title(\"\")\n",
    "    \n",
    "    remove_axis(ax, x=True, y=True)\n",
    "    \n",
    "    ax.axvspan(1.0, 2.0, edgecolor='none', facecolor='gray', zorder=0, alpha=0.075)\n",
    "\n",
    "    l = ax.plot([0, 3.5], [0, 0], linestyle=\"--\", zorder=1, color=\"#444444\")\n",
    "    l[0].set_dashes([1,1])\n",
    "    \n",
    "    ax.set_title(title)\n",
    "    ax.patch.set_alpha(0.0)"
   ]
  },
  {
   "cell_type": "code",
   "execution_count": 9,
   "metadata": {
    "collapsed": true
   },
   "outputs": [],
   "source": [
    "def make_summary_panel(data, genotypes, lam, ax, ylim=[-100, 100]):\n",
    "    \n",
    "    data = data.reset_index()\n",
    "    data = data[(data[\"lambda\"] == lam) & (data.genotype.isin(genotypes))]\n",
    "    \n",
    "    data[\"frequency\"] = data[\"velocity\"] / data[\"lambda\"]\n",
    "    \n",
    "    sb.pointplot(\"velocity\", \"rotation\", hue=\"genotype\", data=data, palette=gt_colors,\n",
    "                 scale=0.75, ax=ax, ci=standard_ci)\n",
    "\n",
    "#     sb.swarmplot(\"velocity\", \"rotation\", hue=\"genotype\", data=data, palette=gt_colors, size=2.0, ax=ax)\n",
    "    \n",
    "    add_refline(ax, horizontal=True)\n",
    "    \n",
    "    ax.set_xlabel(u\"Pattern speed (°/s)\")\n",
    "    ax.set_ylabel(u\"Turning speed (°/s)\")\n",
    "    \n",
    "    ax.legend_.remove()\n",
    "    \n",
    "    ax.set_ylim(ylim)\n",
    "    \n",
    "    for label in ax.get_xticklabels():\n",
    "        label.set_rotation(45)\n",
    "        label.set_horizontalalignment('center')\n",
    "\n",
    "    yloc = mpl.ticker.MaxNLocator(5)\n",
    "    ax.yaxis.set_major_locator(yloc)\n",
    "    \n",
    "    ax.set_xticklabels([16, 32, 64, 128, 256])\n",
    "    \n",
    "    sb.despine(ax=ax)"
   ]
  },
  {
   "cell_type": "code",
   "execution_count": 10,
   "metadata": {
    "collapsed": true
   },
   "outputs": [],
   "source": [
    "def make_walking_panel(data, ax, gt_order):\n",
    "    \n",
    "    walking = data.reset_index().groupby(['genotype', 'flyname'], as_index=False).mean()\n",
    "        \n",
    "    sb.boxplot(x=\"genotype\", y=\"forward\", order=gt_order, data=walking, palette=gt_colors,\n",
    "               whis=np.inf, ax=ax)\n",
    "\n",
    "    sb.plt.xlabel('')\n",
    "    sb.plt.ylabel(u'Walking\\nspeed (cm/s)')\n",
    "    \n",
    "    ax.tick_params(axis='x', which='major', pad=2)\n",
    "\n",
    "    ax.set_xticklabels([gt_alias[pick] for pick in gt_order])\n",
    "    \n",
    "    for label in ax.get_xticklabels():\n",
    "        label.set_rotation(45)\n",
    "        label.set_horizontalalignment('right')\n",
    "\n",
    "    ax.set_ylim([0, 1.7])\n",
    "    ax.set_yticks([0, 0.5, 1.0, 1.5])\n",
    "\n",
    "    sb.despine(ax=ax)"
   ]
  },
  {
   "cell_type": "code",
   "execution_count": 57,
   "metadata": {
    "collapsed": true
   },
   "outputs": [],
   "source": [
    "def add_sidelabel(ax, label):\n",
    "    \n",
    "    ax.yaxis.set_visible(True)\n",
    "    ax.set_yticklabels([])\n",
    "    ax.set_yticks([])\n",
    "    ax.set_ylabel(label)"
   ]
  },
  {
   "cell_type": "code",
   "execution_count": 63,
   "metadata": {
    "collapsed": true
   },
   "outputs": [],
   "source": [
    "def add_asterisks(ax, x_locs, y_locs):\n",
    "    for x, y in zip(x_locs, y_locs):\n",
    "        ax.text(x, y, \"*\", horizontalalignment=\"center\")"
   ]
  },
  {
   "cell_type": "code",
   "execution_count": 85,
   "metadata": {
    "collapsed": true
   },
   "outputs": [],
   "source": [
    "def behavior_figure(lambda_pick):\n",
    "    \n",
    "    general_gt_order = ['F1 X154 x GMRSS00324', 'F1 id528 x X154', 'F1 id528 x GMRSS00324']\n",
    "    \n",
    "    off = -1.4\n",
    "    off_v = -19.7\n",
    "    rows = [0, 2.3, 4.6, 8.0, 11.5, -2.5]\n",
    "    panelsize = (2, 2)\n",
    "\n",
    "    fig = sb.plt.figure(figsize=(4.7, 2.8))\n",
    "\n",
    "    ylim_summary = [-120, 210]\n",
    "    \n",
    "    # Phi Motion:\n",
    "    height = 24 + off_v\n",
    "    \n",
    "    ylim = [-50, 350]\n",
    "    \n",
    "    ax = addaxis(fig, (off + rows[1], height), panelsize, letter=\"a\")\n",
    "    make_trace_panel(data_phi, gts_phi, lambda_pick, 64.0, ax, legend=False, ylim=ylim)\n",
    "    ax.set_title(u\"64 °/s\")\n",
    "    add_sidelabel(ax, \"Phi\")\n",
    "    draw_reference(ax, (0.6, 240), (0.5, 50), (\"s\", u\"°/s\"), fontsize=5.0, lw=0.8)\n",
    "    \n",
    "    ax = addaxis(fig, (off + rows[2], height), panelsize, letter=\"\")\n",
    "    make_trace_panel(data_phi, gts_phi, lambda_pick, 256.0, ax, legend=False, ylim=ylim)\n",
    "    ax.set_title(u\"256 °/s\")\n",
    "\n",
    "    ax = addaxis(fig, (off + rows[3], height), panelsize, letter=\"b\", nudge=0.5)\n",
    "    make_summary_panel(evald_phi, gts_phi, lambda_pick, ax, ylim=ylim_summary)\n",
    "    ax.xaxis.set_visible(False)\n",
    "    vals = evald_phi.loc[pd.IndexSlice[\"F1 id528 x GMRSS00324\", :, :, 90.0], :].groupby(\"velocity\").mean().rotation.values\n",
    "    add_asterisks(ax, [0, 1, 2, 3, 4], vals - 60)\n",
    "    \n",
    "    ax = addaxis(fig, (off + rows[4], height), (1.1, 2), letter=\"c\", nudge=0.9)\n",
    "    make_walking_panel(evald_phi, ax, general_gt_order)\n",
    "    ax.xaxis.set_visible(False)\n",
    "    \n",
    "    # RPhi Motion:\n",
    "    height = 21.1 + off_v\n",
    "    \n",
    "    ylim = [-90, 90]\n",
    "\n",
    "    ax = addaxis(fig, (off + rows[1], height), panelsize, letter=\"d\")\n",
    "    make_trace_panel(data_rphi, gts_rphi, lambda_pick, 64.0, ax, legend=True, ylim=ylim)\n",
    "    add_sidelabel(ax, \"Reverse-phi\")\n",
    "    draw_reference(ax, (0.6, 40), (0.5, 25), (\"s\", u\"°/s\"), fontsize=5.0, lw=0.8)\n",
    "\n",
    "    ax = addaxis(fig, (off + rows[2], height), panelsize, letter=\"\")\n",
    "    make_trace_panel(data_rphi, gts_rphi, lambda_pick, 256.0, ax, legend=False, ylim=ylim)\n",
    "    \n",
    "    ax = addaxis(fig, (off + rows[3], height), panelsize, letter=\"e\", nudge=0.5)\n",
    "    make_summary_panel(evald_rphi, gts_rphi, lambda_pick, ax, ylim=ylim_summary)\n",
    "    vals = evald_phi.loc[pd.IndexSlice[\"F1 id528 x GMRSS00324\", :, :, 90.0], :].groupby(\"velocity\").mean().rotation.values\n",
    "    add_asterisks(ax, [0, 1, 2, 4], np.array([10, 10, 10, 45]))\n",
    "    \n",
    "    ax = addaxis(fig, (off + rows[4], height), (1.1, 2), letter=\"f\", nudge=0.9)\n",
    "    make_walking_panel(evald_rphi, ax, general_gt_order)\n",
    "    \n",
    "    fig.set_frameon(False)\n",
    "    fig.savefig(\"../output/Fig4.tif\", format=\"tiff\", dpi=standard_dpi)"
   ]
  },
  {
   "cell_type": "markdown",
   "metadata": {},
   "source": [
    "### Plots"
   ]
  },
  {
   "cell_type": "code",
   "execution_count": 86,
   "metadata": {},
   "outputs": [
    {
     "data": {
      "image/png": "[encoded data removed]",
      "text/plain": [
       "<matplotlib.figure.Figure at 0x102b267d0>"
      ]
     },
     "metadata": {
      "image/png": {
       "height": 203,
       "width": 317
      }
     },
     "output_type": "display_data"
    }
   ],
   "source": [
    "behavior_figure(lambda_pick=90.0)"
   ]
  }
 ],
 "metadata": {
  "anaconda-cloud": {},
  "kernelspec": {
   "display_name": "Python 2",
   "language": "python",
   "name": "python2"
  },
  "language_info": {
   "codemirror_mode": {
    "name": "ipython",
    "version": 2
   },
   "file_extension": ".py",
   "mimetype": "text/x-python",
   "name": "python",
   "nbconvert_exporter": "python",
   "pygments_lexer": "ipython2",
   "version": "2.7.13"
  }
 },
 "nbformat": 4,
 "nbformat_minor": 1
}
