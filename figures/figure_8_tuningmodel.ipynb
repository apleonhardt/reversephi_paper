{
 "cells": [
  {
   "cell_type": "markdown",
   "metadata": {},
   "source": [
    "# Figure 8: Spatial and temporal tuning of model"
   ]
  },
  {
   "cell_type": "code",
   "execution_count": 1,
   "metadata": {
    "collapsed": true
   },
   "outputs": [],
   "source": [
    "from setup_nb import *"
   ]
  },
  {
   "cell_type": "code",
   "execution_count": 2,
   "metadata": {
    "collapsed": true
   },
   "outputs": [],
   "source": [
    "from detector.implementations import TwoQ, FourQ, lowpass, FourQDelay\n",
    "from detector.stimulus import FastDiscretePhi, fast_discrete_phi"
   ]
  },
  {
   "cell_type": "markdown",
   "metadata": {},
   "source": [
    "### Simulations"
   ]
  },
  {
   "cell_type": "markdown",
   "metadata": {},
   "source": [
    "#### Parameters"
   ]
  },
  {
   "cell_type": "code",
   "execution_count": 3,
   "metadata": {
    "collapsed": true
   },
   "outputs": [],
   "source": [
    "dt = 0.001  # in s\n",
    "\n",
    "lam = 90.0\n",
    "duration = 10.0\n",
    "start = 0.5\n",
    "stop = 9.5\n",
    "\n",
    "contrast = 0.25\n",
    "offset = 1.3\n",
    "\n",
    "recfield = 240.0\n",
    "delta_phi = 4.0\n",
    "\n",
    "param_velo = np.logspace(0, 3, base=10, num=20)  # in deg/s\n",
    "\n",
    "param_offsets = np.linspace(2, 5, num=10)\n",
    "param_contrasts = np.linspace(0, 2, num=15)"
   ]
  },
  {
   "cell_type": "markdown",
   "metadata": {},
   "source": [
    "#### Detectors"
   ]
  },
  {
   "cell_type": "code",
   "execution_count": 4,
   "metadata": {
    "collapsed": true
   },
   "outputs": [],
   "source": [
    "tau_hp = 0.25\n",
    "tau_lp = 0.05\n",
    "\n",
    "d_2q_dc = TwoQ(tau_hp=(tau_hp, tau_hp), tau_lp=(tau_lp, tau_lp), dc=(0.1, 0.1), dt=dt)\n",
    "\n",
    "d_t4 = TwoQ(tau_hp=(tau_hp, tau_hp), tau_lp=(tau_lp, tau_lp), dc=(0.1, 0.1), pathway_weights=(1.0, 0.0), dt=dt)\n",
    "d_t5 = TwoQ(tau_hp=(tau_hp, tau_hp), tau_lp=(tau_lp, tau_lp), dc=(0.1, 0.1), pathway_weights=(0.0, 1.0), dt=dt)\n",
    "\n",
    "d_4q = FourQ(tau_hp=tau_hp, tau_lp=tau_lp, dc=0.0, dt=dt)"
   ]
  },
  {
   "cell_type": "markdown",
   "metadata": {},
   "source": [
    "#### Run"
   ]
  },
  {
   "cell_type": "code",
   "execution_count": 5,
   "metadata": {
    "collapsed": true
   },
   "outputs": [],
   "source": [
    "def run(detector, flip, lam=lam):\n",
    "        \n",
    "    sys.stdout.write(\"\\n\"); sys.stdout.flush()\n",
    "    \n",
    "    c = []\n",
    "    for velo in param_velo:\n",
    "        stim = FastDiscretePhi(lam=lam, duration=duration, start=start, stop=stop, nd=False,\n",
    "                               flip=flip, vel=velo).render(recfield, delta_phi, dt)\n",
    "        stim = np.maximum(contrast * stim + offset, 0)\n",
    "        \n",
    "        output = detector.detect(stim)\n",
    "        c.append(output.mean())\n",
    "        sys.stdout.write(\".\"); sys.stdout.flush()\n",
    "        \n",
    "    c = np.array(c)\n",
    "    return np.array(c)"
   ]
  },
  {
   "cell_type": "code",
   "execution_count": 6,
   "metadata": {},
   "outputs": [
    {
     "name": "stdout",
     "output_type": "stream",
     "text": [
      "\n",
      "....................\n",
      "....................\n",
      "....................\n",
      "....................\n",
      "....................\n",
      "...................."
     ]
    }
   ],
   "source": [
    "phi_30 = run(d_2q_dc, False, 30.0)\n",
    "rphi_30 = run(d_2q_dc, True, 30.0)\n",
    "\n",
    "phi_60 = run(d_2q_dc, False, 60.0)\n",
    "rphi_60 = run(d_2q_dc, True, 60.0)\n",
    "\n",
    "phi_90 = run(d_2q_dc, False, 90.0)\n",
    "rphi_90 = run(d_2q_dc, True, 90.0)"
   ]
  },
  {
   "cell_type": "markdown",
   "metadata": {},
   "source": [
    "### Panels"
   ]
  },
  {
   "cell_type": "code",
   "execution_count": 7,
   "metadata": {
    "collapsed": true
   },
   "outputs": [],
   "source": [
    "def panel_trace(fm1, fm2, rphi, ax, legend=False):\n",
    "    \n",
    "    d = TwoQ(tau_hp=(tau_hp, tau_hp), tau_lp=(tau_lp, tau_lp), dc=(0.1, 0.1), dt=0.001)\n",
    "    \n",
    "    base_args = {\n",
    "        \"duration\": 5.0,\n",
    "        \"start\": 1.0,\n",
    "        \"stop\": 4.0,\n",
    "        \"lam\": 90.0,\n",
    "        \"jump_width\": 4.0,\n",
    "        \"phase_motion\": 1.0,\n",
    "        \"phase_flicker\": 1.0,\n",
    "        \"recfield\": 240.0,\n",
    "        \"delta_phi\": 4.0,\n",
    "        \"dt\": 0.001,\n",
    "    }\n",
    "    \n",
    "    contrast = 0.25\n",
    "    offset = 1.3\n",
    "    \n",
    "    ff1 = fm1 if rphi else 0.0\n",
    "    ff2 = fm2 if rphi else 0.0\n",
    "        \n",
    "    stim1 = fast_discrete_phi(f_motion=fm1, f_flicker=ff1, **base_args)\n",
    "    stim1 = np.maximum(contrast * stim1 + offset, 0)\n",
    "    \n",
    "    stim2 = fast_discrete_phi(f_motion=fm2, f_flicker=ff2, **base_args)\n",
    "    stim2 = np.maximum(contrast * stim2 + offset, 0)\n",
    "    \n",
    "    r1 = d.detect(stim1).sum(axis=0)\n",
    "    r2 = d.detect(stim2).sum(axis=0)\n",
    "\n",
    "    tau = 0.2\n",
    "    r1, r2 = lowpass(r1[np.newaxis, :], tau, 0.001).squeeze(), lowpass(r2[np.newaxis, :], tau, 0.001).squeeze()\n",
    "    \n",
    "    m = np.max([np.abs(r1).max(), np.abs(r2).max()])\n",
    "    \n",
    "    r1, r2 = r1 / m, r2 / m\n",
    "    \n",
    "    # Plotting\n",
    "    \n",
    "    t = np.arange(stim1.shape[1]) * 0.001\n",
    "    ax.plot(t, r1, color=\"black\", label=u\"{0} °/s\".format(int(4.0 * fm1)))\n",
    "    ax.plot(t, r2, color=\"red\", label=u\"{0} °/s\".format(int(4.0 * fm2)))\n",
    "    \n",
    "    ax.axvspan(1.0, 4.0, edgecolor='none', facecolor='gray', zorder=0, alpha=0.075)\n",
    "    \n",
    "    ax.set_xlim([0.0, 5.0])\n",
    "    ax.set_ylim([-1.1, 1.1])\n",
    "    ax.set_xticks([0, 1, 2, 3, 4, 5])\n",
    "    ax.set_yticks([-1, 0, 1])\n",
    "    \n",
    "    ax.set_xlabel(\"Time (s)\")\n",
    "    ax.set_ylabel(\"Normalized\\nresponse (a.u.)\")\n",
    "    \n",
    "    add_refline(ax, horizontal=True)\n",
    "    if legend:\n",
    "        ax.legend(loc=(0.1, 0.05))\n",
    "    \n",
    "    sb.despine(ax=ax)"
   ]
  },
  {
   "cell_type": "code",
   "execution_count": 8,
   "metadata": {
    "collapsed": true
   },
   "outputs": [],
   "source": [
    "def panel_summary_lambda(l30, l60, l90, ax, legend=False):\n",
    "    \n",
    "    m = np.max([np.abs(l30).max(), np.abs(l60).max(), np.abs(l90).max()])\n",
    "    l30, l60, l90 = l30 / m, l60 / m, l90 / m\n",
    "    \n",
    "    lw = 1.0\n",
    "    ax.plot(param_velo, l30, color=gt_colors[30.0], label=u\"λ = 30°\", linewidth=lw)\n",
    "    ax.plot(param_velo, l60, color=gt_colors[60.0], label=u\"λ = 60°\", linewidth=lw)\n",
    "    ax.plot(param_velo, l90, color=gt_colors[90.0], label=u\"λ = 90°\", linewidth=lw)\n",
    "\n",
    "    ax.set_xscale('log')\n",
    "    ax.set_xlim([param_velo[0], param_velo[-1]])\n",
    "    ax.set_xticks([1, 10, 100, 1000])\n",
    "    ax.set_ylim([-1.2, 1.2])\n",
    "    ax.set_yticks([-1.0, 0, 1.0])\n",
    "    ax.set_ylabel(\"Normalized mean\\nresponse (a.u.)\", labelpad=2.5)\n",
    "    ax.set_xlabel(u\"Pattern speed (°/s)\", labelpad=3.0)\n",
    "    \n",
    "    ax.tick_params(axis='both', which='major', pad=2)\n",
    "\n",
    "    sb.plt.minorticks_off()\n",
    "    \n",
    "    if legend:\n",
    "        ax.legend(loc=(0.1, 0.0))\n",
    "    \n",
    "    add_refline(ax, horizontal=True)\n",
    "    \n",
    "    sb.despine(ax=ax)"
   ]
  },
  {
   "cell_type": "code",
   "execution_count": 9,
   "metadata": {
    "collapsed": true
   },
   "outputs": [],
   "source": [
    "def model_figure():\n",
    "        \n",
    "    off = 1.5\n",
    "    rows = [0, 2.7]\n",
    "    panelsize = (2, 2)\n",
    "\n",
    "    fig = sb.plt.figure(figsize=(2.7, 2.9))\n",
    "\n",
    "    height = 4.7\n",
    "    \n",
    "    ax = addaxis(fig, (off + rows[0], height), panelsize, letter=\"a\", nudge=0.5)\n",
    "    panel_summary_lambda(phi_30, phi_60, phi_90, ax, legend=True)\n",
    "    ax.set_title(\"Phi\")\n",
    "    \n",
    "    ax = addaxis(fig, (off + rows[1], height), panelsize, letter=\"b\", nudge=0.1)\n",
    "    panel_summary_lambda(rphi_30, rphi_60, rphi_90, ax)\n",
    "    remove_axis(ax, y=True)\n",
    "    ax.set_title(\"Reverse-phi\")\n",
    "    \n",
    "    height = 1.2\n",
    "    \n",
    "    ax = addaxis(fig, (off + rows[0], height), panelsize, letter=\"c\", nudge=0.5)\n",
    "    panel_trace(16.0, 128.0, False, ax, True)\n",
    "    \n",
    "    ax = addaxis(fig, (off + rows[1], height), panelsize, letter=\"d\", nudge=0.1)\n",
    "    panel_trace(16.0, 128.0, True, ax)\n",
    "    remove_axis(ax, y=True)\n",
    "    \n",
    "    fig.set_frameon(False)\n",
    "    fig.savefig(\"../output/Fig8.tif\", format=\"tiff\", dpi=standard_dpi)"
   ]
  },
  {
   "cell_type": "markdown",
   "metadata": {},
   "source": [
    "### Plot"
   ]
  },
  {
   "cell_type": "code",
   "execution_count": 10,
   "metadata": {},
   "outputs": [
    {
     "data": {
      "image/png": "[encoded data removed]",
      "text/plain": [
       "<matplotlib.figure.Figure at 0x11d7ae890>"
      ]
     },
     "metadata": {
      "image/png": {
       "height": 208,
       "width": 186
      }
     },
     "output_type": "display_data"
    }
   ],
   "source": [
    "model_figure()"
   ]
  }
 ],
 "metadata": {
  "anaconda-cloud": {},
  "kernelspec": {
   "display_name": "Python 2",
   "language": "python",
   "name": "python2"
  },
  "language_info": {
   "codemirror_mode": {
    "name": "ipython",
    "version": 2
   },
   "file_extension": ".py",
   "mimetype": "text/x-python",
   "name": "python",
   "nbconvert_exporter": "python",
   "pygments_lexer": "ipython2",
   "version": "2.7.13"
  }
 },
 "nbformat": 4,
 "nbformat_minor": 1
}
