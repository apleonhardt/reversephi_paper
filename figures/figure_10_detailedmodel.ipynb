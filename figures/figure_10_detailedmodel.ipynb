{
 "cells": [
  {
   "cell_type": "markdown",
   "metadata": {},
   "source": [
    "# Figure 10: Sub-unit responses and detailed look at model properties"
   ]
  },
  {
   "cell_type": "code",
   "execution_count": 7,
   "metadata": {},
   "outputs": [
    {
     "name": "stdout",
     "output_type": "stream",
     "text": [
      "The autoreload extension is already loaded. To reload it, use:\n",
      "  %reload_ext autoreload\n"
     ]
    }
   ],
   "source": [
    "from setup_nb import *"
   ]
  },
  {
   "cell_type": "code",
   "execution_count": 8,
   "metadata": {
    "collapsed": true
   },
   "outputs": [],
   "source": [
    "from detector.implementations import TwoQ, FourQ\n",
    "from detector.stimulus import FastDiscretePhi"
   ]
  },
  {
   "cell_type": "markdown",
   "metadata": {},
   "source": [
    "### Simulations"
   ]
  },
  {
   "cell_type": "markdown",
   "metadata": {},
   "source": [
    "#### Parameters"
   ]
  },
  {
   "cell_type": "code",
   "execution_count": 305,
   "metadata": {},
   "outputs": [],
   "source": [
    "dt = 0.001  # in s\n",
    "\n",
    "lam = 90.0\n",
    "duration = 10.0\n",
    "start = 0.5\n",
    "stop = 9.5\n",
    "\n",
    "contrast = 0.25\n",
    "offset = 1.3\n",
    "\n",
    "recfield = 240.0\n",
    "delta_phi = 4.0\n",
    "\n",
    "param_velo = np.logspace(0, 3, base=10, num=20)  # in deg/s\n",
    "\n",
    "param_offsets = np.linspace(2, 5, num=10)\n",
    "param_contrasts = np.linspace(0, 2, num=15)\n",
    "\n",
    "param_dc = np.arange(-10, 11) * 0.025"
   ]
  },
  {
   "cell_type": "markdown",
   "metadata": {},
   "source": [
    "#### Detectors"
   ]
  },
  {
   "cell_type": "code",
   "execution_count": 10,
   "metadata": {
    "collapsed": true
   },
   "outputs": [],
   "source": [
    "tau_hp = 0.25\n",
    "tau_lp = 0.05\n",
    "\n",
    "d_2q_dc = TwoQ(tau_hp=(tau_hp, tau_hp), tau_lp=(tau_lp, tau_lp), dc=(0.1, 0.1), dt=dt)\n",
    "\n",
    "d_t4 = TwoQ(tau_hp=(tau_hp, tau_hp), tau_lp=(tau_lp, tau_lp), dc=(0.1, 0.1), pathway_weights=(1.0, 0.0), dt=dt)\n",
    "d_t5 = TwoQ(tau_hp=(tau_hp, tau_hp), tau_lp=(tau_lp, tau_lp), dc=(0.1, 0.1), pathway_weights=(0.0, 1.0), dt=dt)\n",
    "\n",
    "d_4q = FourQ(tau_hp=tau_hp, tau_lp=tau_lp, dc=0.0, dt=dt)"
   ]
  },
  {
   "cell_type": "markdown",
   "metadata": {},
   "source": [
    "#### Run"
   ]
  },
  {
   "cell_type": "code",
   "execution_count": 11,
   "metadata": {
    "collapsed": true
   },
   "outputs": [],
   "source": [
    "def run(detector, flip, lam=90.0):\n",
    "        \n",
    "    sys.stdout.write(\"\\n\"); sys.stdout.flush()\n",
    "    \n",
    "    c = []\n",
    "    for velo in param_velo:\n",
    "        stim = FastDiscretePhi(lam=lam, duration=duration, start=start, stop=stop, nd=False,\n",
    "                               flip=flip, vel=velo).render(recfield, delta_phi, dt)\n",
    "        stim = np.maximum(contrast * stim + offset, 0)\n",
    "        \n",
    "        output = detector.detect(stim)\n",
    "        c.append(output.mean())\n",
    "        sys.stdout.write(\".\"); sys.stdout.flush()\n",
    "        \n",
    "    c = np.array(c)\n",
    "    return np.array(c)"
   ]
  },
  {
   "cell_type": "code",
   "execution_count": 201,
   "metadata": {},
   "outputs": [
    {
     "name": "stdout",
     "output_type": "stream",
     "text": [
      "\n",
      "....................\n",
      "....................\n",
      "....................\n",
      "....................\n",
      "....................\n",
      "....................\n",
      "....................\n",
      "...................."
     ]
    }
   ],
   "source": [
    "phi_2q_dc = run(d_2q_dc, False)\n",
    "rphi_2q_dc = run(d_2q_dc, True)\n",
    "\n",
    "phi_4q = run(d_4q, False)\n",
    "rphi_4q = run(d_4q, True)\n",
    "\n",
    "phi_t4 = run(d_t4, False)\n",
    "rphi_t4 = run(d_t4, True)\n",
    "\n",
    "phi_t5 = run(d_t5, False)\n",
    "rphi_t5 = run(d_t5, True)"
   ]
  },
  {
   "cell_type": "code",
   "execution_count": 68,
   "metadata": {
    "collapsed": true
   },
   "outputs": [],
   "source": [
    "def run_stim_matrix_dc(dcs, velos, pathway_weights, flip=True):\n",
    "    \n",
    "    sys.stdout.write(\"\\n\"); sys.stdout.flush()\n",
    "    \n",
    "    output = np.zeros((dcs.shape[0], velos.shape[0]))\n",
    "    \n",
    "    for idx1, dc in enumerate(dcs):\n",
    "        for idx2, vel in enumerate(velos):\n",
    "            \n",
    "            d = TwoQ(tau_hp=(tau_hp, tau_hp), tau_lp=(tau_lp, tau_lp),\n",
    "                     dc=(dc, dc), pathway_weights=pathway_weights, dt=dt)\n",
    "\n",
    "            stim = FastDiscretePhi(lam=lam, duration=duration, start=start, stop=stop, nd=False,\n",
    "                                       flip=flip, vel=vel).render(recfield, delta_phi, dt)\n",
    "            stim = np.maximum(contrast * stim + offset, 0)\n",
    "            \n",
    "            output[idx1, idx2] = d.detect(stim).mean()\n",
    "            sys.stdout.write(\".\"); sys.stdout.flush()\n",
    "            \n",
    "    return output / np.abs(output).max()"
   ]
  },
  {
   "cell_type": "code",
   "execution_count": 259,
   "metadata": {},
   "outputs": [
    {
     "name": "stdout",
     "output_type": "stream",
     "text": [
      "\n",
      "....................................................................................................................................................................................................................................................................................................................................................................................................................................\n",
      "...................................................................................................................................................................................................................................................................................................................................................................................................................................."
     ]
    }
   ],
   "source": [
    "mat_t4_dc = run_stim_matrix_dc(param_dc, param_velo, (1.0, 0.0), flip=True)\n",
    "mat_t5_dc = run_stim_matrix_dc(param_dc, param_velo, (0.0, 1.0), flip=True)"
   ]
  },
  {
   "cell_type": "markdown",
   "metadata": {},
   "source": [
    "### Panels"
   ]
  },
  {
   "cell_type": "code",
   "execution_count": 364,
   "metadata": {},
   "outputs": [],
   "source": [
    "def panel_dc_map(rmap, ax, clip=0.2, cax=None, annot=False):\n",
    "    \n",
    "    dc_step = np.diff(param_dc)[0] * 50\n",
    "\n",
    "    pc = ax.matshow(rmap, origin=\"lower\", cmap=\"PRGn\", vmin=-clip, vmax=clip, rasterized=True)\n",
    "    \n",
    "    ax.set_ylabel(\"DC contribution (%)\", labelpad=2.0)\n",
    "    ax.set_xlabel(u\"Pattern speed (°/s)\", labelpad=2.0)\n",
    "    \n",
    "    xticks = np.log(np.array([1, 10, 100, 1000]))\n",
    "    xticks = 19 * xticks / xticks.max()\n",
    "    ax.set_xticks(xticks)\n",
    "    ax.set_xticklabels([\"$\\mathregular{10^\" + str(x) + \"}$\" for x in range(4)])\n",
    "    \n",
    "    ax.set_yticks([2, 6, 10, 14, 18])\n",
    "    ax.set_yticklabels([-20, -10, 0, 10, 20])\n",
    "    \n",
    "    ax.tick_params(axis='both', which='major', pad=2)\n",
    "    sb.plt.minorticks_off()\n",
    "\n",
    "    l = ax.plot(ax.get_xlim(), [10, 10], linestyle=\"dotted\", zorder=1000, color=\"#444444\")\n",
    "    l[0].set_dashes([1, 1])\n",
    "    \n",
    "    if annot:\n",
    "        ax.annotate(\"\",\n",
    "                    xy=(-0.5, 14), xycoords='data',\n",
    "                    xytext=(5, 14), textcoords='data',\n",
    "                    arrowprops=dict(arrowstyle=\"-|>\", linewidth=1.0, facecolor=\"black\"))\n",
    "    \n",
    "    if cax:\n",
    "        cb = sb.plt.colorbar(pc, cax=cax)\n",
    "        cb.set_label(\"Normalized\\nresponse (a.u.)\", labelpad=-9)\n",
    "        cb.set_ticks([-clip, 0, clip])\n",
    "        cb.set_ticklabels([\"< {0}\".format(-clip), \"0\", \"> {0}\".format(clip)])\n",
    "        cax.tick_params(axis='both', which='major', pad=2)\n",
    "    \n",
    "    sb.despine(ax=ax)"
   ]
  },
  {
   "cell_type": "code",
   "execution_count": 20,
   "metadata": {
    "collapsed": true
   },
   "outputs": [],
   "source": [
    "def panel_summary_t4t5(tuning1, tuning2, ax, legend=False):\n",
    "    \n",
    "    m = np.max([np.abs(tuning1).max(), np.abs(tuning2).max()])\n",
    "    tuning1, tuning2 = tuning1 / m, tuning2 / m\n",
    "    \n",
    "    lw = 1.0\n",
    "    ax.plot(param_velo, tuning1, color=gt_colors[\"ON\"], label=\"ON\", linewidth=lw)\n",
    "    ax.plot(param_velo, tuning2, color=gt_colors[\"OFF\"], label=\"OFF\", linewidth=lw)\n",
    "    \n",
    "    ax.set_xscale('log')\n",
    "    ax.set_xlim([param_velo[0], param_velo[-1]])\n",
    "    ax.set_xticks([1, 10, 100, 1000])\n",
    "    ax.set_ylim([-1.2, 0.7])\n",
    "    ax.set_yticks([-1.0, -0.5, 0, 0.5])\n",
    "    ax.set_ylabel(\"Normalized mean\\nresponse (a.u.)\", labelpad=2.5)\n",
    "    ax.set_xlabel(u\"Pattern speed (°/s)\", labelpad=3.0)\n",
    "    \n",
    "    ax.tick_params(axis='both', which='major', pad=2)\n",
    "\n",
    "    sb.plt.minorticks_off()\n",
    "    \n",
    "    if legend:\n",
    "        ax.legend(loc=(0.0, 0.7))\n",
    "    \n",
    "    add_refline(ax, horizontal=True)\n",
    "    \n",
    "    sb.despine(ax=ax)"
   ]
  },
  {
   "cell_type": "code",
   "execution_count": 363,
   "metadata": {
    "collapsed": true
   },
   "outputs": [],
   "source": [
    "def model_figure():\n",
    "        \n",
    "    off = 1.6\n",
    "    rows = [0, 3.4, 5.8]\n",
    "    panelsize = (2, 2)\n",
    "    \n",
    "    clip = 0.6\n",
    "\n",
    "    fig = sb.plt.figure(figsize=(4.4, 1.5))\n",
    "\n",
    "    height = 1.1\n",
    "    \n",
    "    ax = addaxis(fig, (off + rows[0], height), panelsize, letter=\"a\", nudge=0.5)\n",
    "    panel_summary_t4t5(rphi_t4, rphi_t5, ax, legend=True)\n",
    "    \n",
    "    ax = addaxis(fig, (off + rows[1], height), panelsize, letter=\"b\", nudge=0.2)\n",
    "    panel_dc_map(mat_t4_dc, ax, clip=clip, cax=None, annot=True)\n",
    "    ax.set_title(\"ON subunit\")\n",
    "    \n",
    "    ax = addaxis(fig, (off + rows[2], height), panelsize, letter=\"c\", nudge=0.05)\n",
    "    cax = addaxis(fig, (off + rows[2] + 2.2, height), (0.15, 2), letter=\"\")\n",
    "    panel_dc_map(mat_t5_dc, ax, clip=clip, cax=cax)\n",
    "    remove_axis(ax, y=True)\n",
    "    ax.set_title(\"OFF subunit\")\n",
    "    \n",
    "    fig.set_frameon(False)\n",
    "    fig.savefig(\"../output/Fig10.tif\", format=\"tiff\", dpi=standard_dpi)"
   ]
  },
  {
   "cell_type": "markdown",
   "metadata": {},
   "source": [
    "### Plot"
   ]
  },
  {
   "cell_type": "code",
   "execution_count": 362,
   "metadata": {},
   "outputs": [
    {
     "data": {
      "image/png": "[encoded data removed]",
      "text/plain": [
       "<matplotlib.figure.Figure at 0x11ba05cd0>"
      ]
     },
     "metadata": {
      "image/png": {
       "height": 110,
       "width": 305
      }
     },
     "output_type": "display_data"
    }
   ],
   "source": [
    "model_figure()"
   ]
  }
 ],
 "metadata": {
  "anaconda-cloud": {},
  "kernelspec": {
   "display_name": "Python 2",
   "language": "python",
   "name": "python2"
  },
  "language_info": {
   "codemirror_mode": {
    "name": "ipython",
    "version": 2
   },
   "file_extension": ".py",
   "mimetype": "text/x-python",
   "name": "python",
   "nbconvert_exporter": "python",
   "pygments_lexer": "ipython2",
   "version": "2.7.13"
  }
 },
 "nbformat": 4,
 "nbformat_minor": 1
}
