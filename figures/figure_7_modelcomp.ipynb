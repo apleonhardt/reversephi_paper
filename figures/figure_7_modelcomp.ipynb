{
 "cells": [
  {
   "cell_type": "markdown",
   "metadata": {},
   "source": [
    "# Figure 7: Model comparison"
   ]
  },
  {
   "cell_type": "code",
   "execution_count": 1,
   "metadata": {
    "collapsed": true
   },
   "outputs": [],
   "source": [
    "from setup_nb import *"
   ]
  },
  {
   "cell_type": "code",
   "execution_count": 2,
   "metadata": {
    "collapsed": true
   },
   "outputs": [],
   "source": [
    "from detector.implementations import TwoQ, FourQ\n",
    "from detector.stimulus import FastDiscretePhi, fast_discrete_phi"
   ]
  },
  {
   "cell_type": "markdown",
   "metadata": {},
   "source": [
    "### Simulations"
   ]
  },
  {
   "cell_type": "markdown",
   "metadata": {},
   "source": [
    "#### Parameters"
   ]
  },
  {
   "cell_type": "code",
   "execution_count": 3,
   "metadata": {
    "collapsed": true
   },
   "outputs": [],
   "source": [
    "dt = 0.001  # in s\n",
    "\n",
    "lam = 90.0\n",
    "duration = 10.0\n",
    "start = 0.5\n",
    "stop = 9.5\n",
    "\n",
    "contrast = 0.25\n",
    "offset = 1.3\n",
    "\n",
    "recfield = 240.0\n",
    "delta_phi = 4.0\n",
    "\n",
    "param_velo = np.logspace(0, 3, base=10, num=20)  # in deg/s\n",
    "\n",
    "lps = np.logspace(-2, 0, base=10, num=15)\n",
    "hps = np.logspace(-2, 0, base=10, num=15)"
   ]
  },
  {
   "cell_type": "markdown",
   "metadata": {},
   "source": [
    "#### Detectors"
   ]
  },
  {
   "cell_type": "code",
   "execution_count": 4,
   "metadata": {
    "collapsed": true
   },
   "outputs": [],
   "source": [
    "tau_hp = 0.25\n",
    "tau_lp = 0.05\n",
    "\n",
    "d_2q = TwoQ(tau_hp=(tau_hp, tau_hp), tau_lp=(tau_lp, tau_lp), dc=(0.0, 0.0), dt=dt)\n",
    "d_2q_dc = TwoQ(tau_hp=(tau_hp, tau_hp), tau_lp=(tau_lp, tau_lp), dc=(0.1, 0.1), dt=dt)\n",
    "\n",
    "d_4q = FourQ(tau_hp=tau_hp, tau_lp=tau_lp, dc=0.0, dt=dt)\n",
    "d_4q_dc = FourQ(tau_hp=tau_hp, tau_lp=tau_lp, dc=0.1, dt=dt)"
   ]
  },
  {
   "cell_type": "markdown",
   "metadata": {},
   "source": [
    "#### Run"
   ]
  },
  {
   "cell_type": "code",
   "execution_count": 5,
   "metadata": {
    "collapsed": true
   },
   "outputs": [],
   "source": [
    "def run(detector, flip):\n",
    "    \n",
    "    # CAREFUL: Refers to global params!\n",
    "    \n",
    "    sys.stdout.write(\"\\n\"); sys.stdout.flush()\n",
    "    \n",
    "    c = []\n",
    "    for velo in param_velo:\n",
    "        stim = FastDiscretePhi(lam=lam, duration=duration, start=start, stop=stop, nd=False,\n",
    "                               flip=flip, vel=velo).render(recfield, delta_phi, dt)\n",
    "        stim = np.maximum(contrast * stim + offset, 0)\n",
    "        \n",
    "        output = detector.detect(stim)\n",
    "        c.append(output.mean())\n",
    "        sys.stdout.write(\".\"); sys.stdout.flush()\n",
    "        \n",
    "    c = np.array(c)\n",
    "    return np.array(c)"
   ]
  },
  {
   "cell_type": "code",
   "execution_count": 33,
   "metadata": {
    "collapsed": true
   },
   "outputs": [],
   "source": [
    "def run2(detector, flip):\n",
    "    \n",
    "    base_args = {\n",
    "        \"duration\": duration,\n",
    "        \"start\": start,\n",
    "        \"stop\": stop,\n",
    "        \"lam\": lam,\n",
    "        \"jump_width\": delta_phi,\n",
    "        \"phase_motion\": 0.0,\n",
    "        \"phase_flicker\": 0.5,\n",
    "        \"recfield\": recfield,\n",
    "        \"delta_phi\": delta_phi,\n",
    "        \"dt\": 0.001,\n",
    "    }\n",
    "            \n",
    "    sys.stdout.write(\"\\n\"); sys.stdout.flush()\n",
    "    \n",
    "    c = []\n",
    "    for velo in param_velo:\n",
    "        \n",
    "        f_motion = velo / delta_phi\n",
    "        f_flicker = f_motion if flip else 0.0\n",
    "        \n",
    "        stim = fast_discrete_phi(f_motion=f_motion, f_flicker=f_flicker, **base_args)\n",
    "        stim = np.maximum(contrast * stim + offset, 0)\n",
    "        \n",
    "        output = detector.detect(stim)\n",
    "        c.append(output.mean())\n",
    "        sys.stdout.write(\".\"); sys.stdout.flush()\n",
    "        \n",
    "    c = np.array(c)\n",
    "    return np.array(c)"
   ]
  },
  {
   "cell_type": "code",
   "execution_count": 34,
   "metadata": {},
   "outputs": [
    {
     "name": "stdout",
     "output_type": "stream",
     "text": [
      "\n",
      "....................\n",
      "....................\n",
      "....................\n",
      "....................\n",
      "....................\n",
      "....................\n",
      "....................\n",
      "....................\n",
      "....................\n",
      "...................."
     ]
    }
   ],
   "source": [
    "phi_2q = run(d_2q, False)\n",
    "rphi_2q = run(d_2q, True)\n",
    "\n",
    "phi_2q_dc = run(d_2q_dc, False)\n",
    "rphi_2q_dc = run(d_2q_dc, True)\n",
    "\n",
    "phi_4q = run(d_4q, False)\n",
    "rphi_4q = run(d_4q, True)\n",
    "\n",
    "phi_4q_dc = run(d_4q_dc, False)\n",
    "rphi_4q_dc = run(d_4q_dc, True)\n",
    "\n",
    "phi_2q_dc_oop = run2(d_2q_dc, False)\n",
    "rphi_2q_dc_oop = run2(d_2q_dc, True)"
   ]
  },
  {
   "cell_type": "code",
   "execution_count": 8,
   "metadata": {
    "collapsed": true
   },
   "outputs": [],
   "source": [
    "# Full matrix:\n",
    "\n",
    "def run_tau_matrix_generic(param_tau, param_velo, d_builder, flip=True):\n",
    "    \n",
    "    sys.stdout.write(\"\\n\"); sys.stdout.flush()\n",
    "    \n",
    "    output = np.zeros((param_tau.shape[0], param_velo.shape[0]))\n",
    "    \n",
    "    for idx1, tau in enumerate(param_tau):\n",
    "        for idx2, velo in enumerate(param_velo):\n",
    "\n",
    "            stim = FastDiscretePhi(lam=lam, duration=duration, start=start, stop=stop, nd=False,\n",
    "                                       flip=flip, vel=velo).render(recfield, delta_phi, dt)\n",
    "            stim = np.maximum(contrast * stim + offset, 0)\n",
    "            \n",
    "            d = d_builder(tau)\n",
    "            \n",
    "            output[idx1, idx2] = d.detect(stim).mean()\n",
    "            sys.stdout.write(\".\"); sys.stdout.flush()\n",
    "            \n",
    "    return output / np.abs(output).max()"
   ]
  },
  {
   "cell_type": "code",
   "execution_count": 9,
   "metadata": {
    "collapsed": true
   },
   "outputs": [],
   "source": [
    "builder_2q_lp = lambda tau: TwoQ(tau_lp=(tau, tau), tau_hp=(tau_hp, tau_hp), dc=(0.1, 0.1), dt=dt)\n",
    "builder_2q_hp = lambda tau: TwoQ(tau_hp=(tau, tau), tau_lp=(tau_lp, tau_lp), dc=(0.1, 0.1), dt=dt)\n",
    "\n",
    "builder_4q_lp = lambda tau: FourQ(tau_hp=tau_hp, tau_lp=tau, dc=0.0, dt=dt)\n",
    "builder_4q_hp = lambda tau: FourQ(tau_hp=tau, tau_lp=tau_lp, dc=0.0, dt=dt)"
   ]
  },
  {
   "cell_type": "code",
   "execution_count": 10,
   "metadata": {},
   "outputs": [
    {
     "name": "stdout",
     "output_type": "stream",
     "text": [
      "\n",
      "............................................................................................................................................................................................................................................................................................................\n",
      "............................................................................................................................................................................................................................................................................................................\n",
      "............................................................................................................................................................................................................................................................................................................\n",
      "............................................................................................................................................................................................................................................................................................................"
     ]
    }
   ],
   "source": [
    "mat_4q_lp = run_tau_matrix_generic(lps, param_velo, builder_4q_lp, flip=True)\n",
    "mat_4q_hp = run_tau_matrix_generic(hps, param_velo, builder_4q_hp, flip=True)\n",
    "\n",
    "mat_2q_lp = run_tau_matrix_generic(lps, param_velo, builder_2q_lp, flip=True)\n",
    "mat_2q_hp = run_tau_matrix_generic(hps, param_velo, builder_2q_hp, flip=True)"
   ]
  },
  {
   "cell_type": "markdown",
   "metadata": {},
   "source": [
    "### Panels"
   ]
  },
  {
   "cell_type": "code",
   "execution_count": 11,
   "metadata": {
    "collapsed": true
   },
   "outputs": [],
   "source": [
    "def panel_parameter_search(output, taus, velos, filt, ax, cax=None, annot=False):\n",
    "    \n",
    "    m = np.abs(output).max()\n",
    "    \n",
    "    t, v = np.meshgrid(velos, taus)\n",
    "    pc = ax.pcolormesh(t, v, output, cmap=\"PRGn\", vmin=-m, vmax=m, linewidth=0, rasterized=True)\n",
    "    \n",
    "    ax.set_xscale('log')\n",
    "    ax.set_yscale('log')\n",
    "    \n",
    "    ax.set_xlim([velos[0], velos[-1]])\n",
    "    ax.set_ylim([taus[0], taus[-1]])\n",
    "    ax.set_xticks([1, 10, 100, 1000])\n",
    "    \n",
    "    ax.set_ylabel(\"{0}-pass time\\nconstant (s)\".format(filt), labelpad=2.0)\n",
    "    ax.set_xlabel(u\"Pattern speed (°/s)\", labelpad=2.0)\n",
    "    \n",
    "    ax.minorticks_off()\n",
    "    \n",
    "    if cax:\n",
    "        cb = sb.plt.colorbar(pc, cax=cax)\n",
    "        cb.set_label(\"Response to\\nreverse-phi (a.u.)\", labelpad=0.5)\n",
    "        cb.set_ticks([-1, 0, 1])\n",
    "        cax.tick_params(axis='both', which='major', pad=2)\n",
    "\n",
    "    if filt is \"High\":\n",
    "        loc = 0.25\n",
    "    elif filt is \"Low\":\n",
    "        loc = 0.05\n",
    "    \n",
    "    if annot:\n",
    "        ax.annotate(\"\",\n",
    "                    xy=(1, loc), xycoords='data',\n",
    "                    xytext=(5, loc), textcoords='data',\n",
    "                    arrowprops=dict(arrowstyle=\"-|>\", linewidth=1.0, facecolor=\"black\"))\n",
    "    \n",
    "    sb.despine(ax=ax)"
   ]
  },
  {
   "cell_type": "code",
   "execution_count": 36,
   "metadata": {
    "collapsed": true
   },
   "outputs": [],
   "source": [
    "def panel_summary(tuning1, tuning2, ax, legend=False):\n",
    "    \n",
    "    m = np.max([np.abs(tuning1).max(), np.abs(tuning2).max()])\n",
    "    tuning1, tuning2 = tuning1 / m, tuning2 / m\n",
    "    \n",
    "    lw = 1.0\n",
    "    ax.plot(param_velo, tuning1, color=gt_colors[0.0], label=u\"Phi (λ = 90°)\", linewidth=lw)\n",
    "    ax.plot(param_velo, tuning2, color=gt_colors[1.0], label=\"Reverse-phi\", linewidth=lw)\n",
    "    \n",
    "    ax.set_xscale('log')\n",
    "    ax.set_xlim([param_velo[0], param_velo[-1]])\n",
    "    ax.set_xticks([1, 10, 100, 1000])\n",
    "    ax.set_ylim([-0.7, 1.2])\n",
    "    ax.set_yticks([-0.5, 0, 0.5, 1])\n",
    "    ax.set_ylabel(\"Normalized mean\\nresponse (a.u.)\", labelpad=2.5)\n",
    "    ax.set_xlabel(u\"Pattern speed (°/s)\", labelpad=4.0)\n",
    "    \n",
    "    sb.plt.minorticks_off()\n",
    "    \n",
    "    if legend:\n",
    "        ax.legend(loc=(0.05, -0.23))\n",
    "    \n",
    "    add_refline(ax, horizontal=True)\n",
    "    \n",
    "    sb.despine(ax=ax)"
   ]
  },
  {
   "cell_type": "code",
   "execution_count": 28,
   "metadata": {
    "collapsed": true
   },
   "outputs": [],
   "source": [
    "def model_figure():\n",
    "        \n",
    "    off = 2.0\n",
    "    off_v = -17.3\n",
    "    rows = [0, 2.5, 5.0, 7.5]\n",
    "    panelsize = (2, 2)\n",
    "\n",
    "    fig = sb.plt.figure(figsize=(4.85, 3.8))\n",
    "\n",
    "    # Phi model:\n",
    "    height = 24 + off_v\n",
    "    \n",
    "    ax = addaxis(fig, (off + rows[0], height), panelsize, letter=\"a\", nudge=0.5)\n",
    "    panel_summary(phi_4q, rphi_4q, ax, legend=True)\n",
    "    ax.set_title(\"4Q\")\n",
    "    remove_axis(ax, x=True)    \n",
    "    \n",
    "    ax = addaxis(fig, (off + rows[1], height), panelsize, letter=\"b\", nudge=0)\n",
    "    panel_summary(phi_2q_dc, rphi_2q_dc, ax, legend=False)\n",
    "    ax.set_title(\"2Q\")\n",
    "    remove_axis(ax, x=True, y=True)    \n",
    "\n",
    "    ax = addaxis(fig, (off + rows[2], height), panelsize, letter=\"c\", nudge=0)\n",
    "    panel_summary(phi_2q, rphi_2q, ax, legend=False)\n",
    "    ax.set_title(\"2Q\\nwithout DC\")\n",
    "    remove_axis(ax, y=True)\n",
    "    \n",
    "    ax = addaxis(fig, (off + rows[3], height), panelsize, letter=\"d\")\n",
    "    panel_summary(phi_4q_dc, rphi_4q_dc, ax, legend=False)\n",
    "    ax.set_title(\"4Q\\nwith DC\")\n",
    "    remove_axis(ax, x=True, y=True)\n",
    "    \n",
    "    height = 21.4 + off_v\n",
    "    \n",
    "    ax = addaxis(fig, (off + rows[0], height), panelsize, letter=\"f\", nudge=0.5)\n",
    "    panel_parameter_search(mat_4q_lp, lps, param_velo, \"Low\", ax, annot=True)\n",
    "    remove_axis(ax, x=True)    \n",
    "\n",
    "    ax = addaxis(fig, (off + rows[1], height), panelsize, letter=\"g\", nudge=0.0)\n",
    "    panel_parameter_search(mat_2q_lp, lps, param_velo, \"Low\", ax)\n",
    "    remove_axis(ax, x=True, y=True)\n",
    "    \n",
    "    ax = addaxis(fig, (off + rows[3], height - 0.85), panelsize, letter=\"e\", nudge=0.0)\n",
    "    panel_summary(phi_2q_dc_oop, rphi_2q_dc_oop, ax, legend=False)\n",
    "    ax.set_title(\"2Q\\nout-of-phase\")\n",
    "    \n",
    "    height = 18.8 + off_v\n",
    "    \n",
    "    ax = addaxis(fig, (off + rows[0], height), panelsize, letter=\"h\", nudge=0.5)\n",
    "    panel_parameter_search(mat_4q_hp, hps, param_velo, \"High\", ax, annot=True)\n",
    "\n",
    "    ax = addaxis(fig, (off + rows[1], height), panelsize, letter=\"i\", nudge=0.0)\n",
    "    cax = addaxis(fig, (off + rows[2] - 0.3, height), (0.2, 2.0), letter=\"\")\n",
    "    panel_parameter_search(mat_2q_hp, hps, param_velo, \"High\", ax, cax=cax)\n",
    "    remove_axis(ax, y=True)\n",
    "    \n",
    "    fig.set_frameon(False)\n",
    "    fig.savefig(\"../output/Fig7.tif\", format=\"tiff\", dpi=standard_dpi)"
   ]
  },
  {
   "cell_type": "markdown",
   "metadata": {},
   "source": [
    "### Plot"
   ]
  },
  {
   "cell_type": "code",
   "execution_count": 37,
   "metadata": {},
   "outputs": [
    {
     "data": {
      "image/png": "[encoded data removed]",
      "text/plain": [
       "<matplotlib.figure.Figure at 0x12429d890>"
      ]
     },
     "metadata": {
      "image/png": {
       "height": 265,
       "width": 326
      }
     },
     "output_type": "display_data"
    }
   ],
   "source": [
    "model_figure()"
   ]
  }
 ],
 "metadata": {
  "anaconda-cloud": {},
  "kernelspec": {
   "display_name": "Python 2",
   "language": "python",
   "name": "python2"
  },
  "language_info": {
   "codemirror_mode": {
    "name": "ipython",
    "version": 2
   },
   "file_extension": ".py",
   "mimetype": "text/x-python",
   "name": "python",
   "nbconvert_exporter": "python",
   "pygments_lexer": "ipython2",
   "version": "2.7.13"
  }
 },
 "nbformat": 4,
 "nbformat_minor": 1
}
