{
 "cells": [
  {
   "cell_type": "markdown",
   "metadata": {},
   "source": [
    "# Figure 3: Phenomenology of reverse-phi in walking flies"
   ]
  },
  {
   "cell_type": "code",
   "execution_count": 1,
   "metadata": {
    "collapsed": true,
    "scrolled": true
   },
   "outputs": [],
   "source": [
    "from setup_nb import *"
   ]
  },
  {
   "cell_type": "markdown",
   "metadata": {},
   "source": [
    "### Data"
   ]
  },
  {
   "cell_type": "code",
   "execution_count": 2,
   "metadata": {
    "collapsed": true
   },
   "outputs": [],
   "source": [
    "# General preprocessing (filtering + left-right subtraction):\n",
    "\n",
    "def preprocess(data):\n",
    "    \n",
    "    # First, we take the difference between left- and right-directed stimuli and apply a soft low-pass filter:\n",
    "    data = preprocess_standard(data, filter=None)\n",
    "    \n",
    "    # For evaluation, we tange the mean rotation over a certain range:\n",
    "    evald = groupexcept(data, 'time').aggregate(rangemean, r=slice(1.5, 3.0))\n",
    "    \n",
    "    return data, evald"
   ]
  },
  {
   "cell_type": "code",
   "execution_count": 3,
   "metadata": {
    "collapsed": true
   },
   "outputs": [],
   "source": [
    "data_phi, evald_phi = preprocess(pd.read_hdf(\"../data/behav_phi.data\"))\n",
    "data_rphi, evald_rphi = preprocess(pd.read_hdf(\"../data/behav_rphi.data\"))\n",
    "\n",
    "data_highres, evald_highres = preprocess(pd.read_hdf(\"../data/highresolution.data\"))"
   ]
  },
  {
   "cell_type": "code",
   "execution_count": 4,
   "metadata": {},
   "outputs": [
    {
     "data": {
      "text/html": [
       "<div>\n",
       "<style>\n",
       "    .dataframe thead tr:only-child th {\n",
       "        text-align: right;\n",
       "    }\n",
       "\n",
       "    .dataframe thead th {\n",
       "        text-align: left;\n",
       "    }\n",
       "\n",
       "    .dataframe tbody tr th {\n",
       "        vertical-align: top;\n",
       "    }\n",
       "</style>\n",
       "<table border=\"1\" class=\"dataframe\">\n",
       "  <thead>\n",
       "    <tr style=\"text-align: right;\">\n",
       "      <th></th>\n",
       "      <th></th>\n",
       "      <th></th>\n",
       "      <th></th>\n",
       "      <th></th>\n",
       "      <th>rotation</th>\n",
       "      <th>forward</th>\n",
       "    </tr>\n",
       "    <tr>\n",
       "      <th>genotype</th>\n",
       "      <th>flyname</th>\n",
       "      <th>velocity</th>\n",
       "      <th>lambda</th>\n",
       "      <th>time</th>\n",
       "      <th></th>\n",
       "      <th></th>\n",
       "    </tr>\n",
       "  </thead>\n",
       "  <tbody>\n",
       "    <tr>\n",
       "      <th rowspan=\"5\" valign=\"top\">F1 X154 x GMRSS00324</th>\n",
       "      <th rowspan=\"5\" valign=\"top\">20141014_fly19_exp01</th>\n",
       "      <th rowspan=\"5\" valign=\"top\">16.0</th>\n",
       "      <th rowspan=\"5\" valign=\"top\">30.0</th>\n",
       "      <th>0.00</th>\n",
       "      <td>5.061143</td>\n",
       "      <td>1.273541</td>\n",
       "    </tr>\n",
       "    <tr>\n",
       "      <th>0.05</th>\n",
       "      <td>5.061143</td>\n",
       "      <td>1.273541</td>\n",
       "    </tr>\n",
       "    <tr>\n",
       "      <th>0.10</th>\n",
       "      <td>4.861128</td>\n",
       "      <td>1.255370</td>\n",
       "    </tr>\n",
       "    <tr>\n",
       "      <th>0.15</th>\n",
       "      <td>12.328827</td>\n",
       "      <td>1.290292</td>\n",
       "    </tr>\n",
       "    <tr>\n",
       "      <th>0.20</th>\n",
       "      <td>0.205664</td>\n",
       "      <td>1.243801</td>\n",
       "    </tr>\n",
       "  </tbody>\n",
       "</table>\n",
       "</div>"
      ],
      "text/plain": [
       "                                                                 rotation  \\\n",
       "genotype             flyname              velocity lambda time              \n",
       "F1 X154 x GMRSS00324 20141014_fly19_exp01 16.0     30.0   0.00   5.061143   \n",
       "                                                          0.05   5.061143   \n",
       "                                                          0.10   4.861128   \n",
       "                                                          0.15  12.328827   \n",
       "                                                          0.20   0.205664   \n",
       "\n",
       "                                                                 forward  \n",
       "genotype             flyname              velocity lambda time            \n",
       "F1 X154 x GMRSS00324 20141014_fly19_exp01 16.0     30.0   0.00  1.273541  \n",
       "                                                          0.05  1.273541  \n",
       "                                                          0.10  1.255370  \n",
       "                                                          0.15  1.290292  \n",
       "                                                          0.20  1.243801  "
      ]
     },
     "execution_count": 4,
     "metadata": {},
     "output_type": "execute_result"
    }
   ],
   "source": [
    "data_phi.head()"
   ]
  },
  {
   "cell_type": "code",
   "execution_count": 5,
   "metadata": {},
   "outputs": [
    {
     "data": {
      "text/html": [
       "<div>\n",
       "<style>\n",
       "    .dataframe thead tr:only-child th {\n",
       "        text-align: right;\n",
       "    }\n",
       "\n",
       "    .dataframe thead th {\n",
       "        text-align: left;\n",
       "    }\n",
       "\n",
       "    .dataframe tbody tr th {\n",
       "        vertical-align: top;\n",
       "    }\n",
       "</style>\n",
       "<table border=\"1\" class=\"dataframe\">\n",
       "  <thead>\n",
       "    <tr style=\"text-align: right;\">\n",
       "      <th></th>\n",
       "      <th></th>\n",
       "      <th></th>\n",
       "      <th></th>\n",
       "      <th>rotation</th>\n",
       "      <th>forward</th>\n",
       "    </tr>\n",
       "    <tr>\n",
       "      <th>genotype</th>\n",
       "      <th>flyname</th>\n",
       "      <th>velocity</th>\n",
       "      <th>lambda</th>\n",
       "      <th></th>\n",
       "      <th></th>\n",
       "    </tr>\n",
       "  </thead>\n",
       "  <tbody>\n",
       "    <tr>\n",
       "      <th rowspan=\"5\" valign=\"top\">F1 X154 x GMRSS00324</th>\n",
       "      <th rowspan=\"5\" valign=\"top\">20141014_fly19_exp01</th>\n",
       "      <th rowspan=\"2\" valign=\"top\">16.0</th>\n",
       "      <th>30.0</th>\n",
       "      <td>86.583666</td>\n",
       "      <td>1.307684</td>\n",
       "    </tr>\n",
       "    <tr>\n",
       "      <th>90.0</th>\n",
       "      <td>48.685103</td>\n",
       "      <td>1.234065</td>\n",
       "    </tr>\n",
       "    <tr>\n",
       "      <th rowspan=\"2\" valign=\"top\">32.0</th>\n",
       "      <th>30.0</th>\n",
       "      <td>121.753067</td>\n",
       "      <td>1.222568</td>\n",
       "    </tr>\n",
       "    <tr>\n",
       "      <th>90.0</th>\n",
       "      <td>97.475439</td>\n",
       "      <td>1.190915</td>\n",
       "    </tr>\n",
       "    <tr>\n",
       "      <th>64.0</th>\n",
       "      <th>30.0</th>\n",
       "      <td>166.410940</td>\n",
       "      <td>1.167249</td>\n",
       "    </tr>\n",
       "  </tbody>\n",
       "</table>\n",
       "</div>"
      ],
      "text/plain": [
       "                                                             rotation  \\\n",
       "genotype             flyname              velocity lambda               \n",
       "F1 X154 x GMRSS00324 20141014_fly19_exp01 16.0     30.0     86.583666   \n",
       "                                                   90.0     48.685103   \n",
       "                                          32.0     30.0    121.753067   \n",
       "                                                   90.0     97.475439   \n",
       "                                          64.0     30.0    166.410940   \n",
       "\n",
       "                                                            forward  \n",
       "genotype             flyname              velocity lambda            \n",
       "F1 X154 x GMRSS00324 20141014_fly19_exp01 16.0     30.0    1.307684  \n",
       "                                                   90.0    1.234065  \n",
       "                                          32.0     30.0    1.222568  \n",
       "                                                   90.0    1.190915  \n",
       "                                          64.0     30.0    1.167249  "
      ]
     },
     "execution_count": 5,
     "metadata": {},
     "output_type": "execute_result"
    }
   ],
   "source": [
    "evald_phi.head()"
   ]
  },
  {
   "cell_type": "code",
   "execution_count": 6,
   "metadata": {},
   "outputs": [
    {
     "data": {
      "text/html": [
       "<div>\n",
       "<style>\n",
       "    .dataframe thead tr:only-child th {\n",
       "        text-align: right;\n",
       "    }\n",
       "\n",
       "    .dataframe thead th {\n",
       "        text-align: left;\n",
       "    }\n",
       "\n",
       "    .dataframe tbody tr th {\n",
       "        vertical-align: top;\n",
       "    }\n",
       "</style>\n",
       "<table border=\"1\" class=\"dataframe\">\n",
       "  <thead>\n",
       "    <tr style=\"text-align: right;\">\n",
       "      <th></th>\n",
       "      <th></th>\n",
       "      <th></th>\n",
       "      <th></th>\n",
       "      <th></th>\n",
       "      <th>rotation</th>\n",
       "      <th>forward</th>\n",
       "    </tr>\n",
       "    <tr>\n",
       "      <th>genotype</th>\n",
       "      <th>flyname</th>\n",
       "      <th>velocity</th>\n",
       "      <th>lambda</th>\n",
       "      <th>time</th>\n",
       "      <th></th>\n",
       "      <th></th>\n",
       "    </tr>\n",
       "  </thead>\n",
       "  <tbody>\n",
       "    <tr>\n",
       "      <th rowspan=\"5\" valign=\"top\">F1 X154 x GMRSS00324</th>\n",
       "      <th rowspan=\"5\" valign=\"top\">20141014_fly19_exp01</th>\n",
       "      <th rowspan=\"5\" valign=\"top\">16.0</th>\n",
       "      <th rowspan=\"5\" valign=\"top\">30.0</th>\n",
       "      <th>0.00</th>\n",
       "      <td>-14.028743</td>\n",
       "      <td>0.891260</td>\n",
       "    </tr>\n",
       "    <tr>\n",
       "      <th>0.01</th>\n",
       "      <td>-14.028743</td>\n",
       "      <td>0.891260</td>\n",
       "    </tr>\n",
       "    <tr>\n",
       "      <th>0.02</th>\n",
       "      <td>-18.562925</td>\n",
       "      <td>1.082504</td>\n",
       "    </tr>\n",
       "    <tr>\n",
       "      <th>0.03</th>\n",
       "      <td>-20.177467</td>\n",
       "      <td>1.033409</td>\n",
       "    </tr>\n",
       "    <tr>\n",
       "      <th>0.04</th>\n",
       "      <td>-24.069349</td>\n",
       "      <td>1.007641</td>\n",
       "    </tr>\n",
       "  </tbody>\n",
       "</table>\n",
       "</div>"
      ],
      "text/plain": [
       "                                                                 rotation  \\\n",
       "genotype             flyname              velocity lambda time              \n",
       "F1 X154 x GMRSS00324 20141014_fly19_exp01 16.0     30.0   0.00 -14.028743   \n",
       "                                                          0.01 -14.028743   \n",
       "                                                          0.02 -18.562925   \n",
       "                                                          0.03 -20.177467   \n",
       "                                                          0.04 -24.069349   \n",
       "\n",
       "                                                                 forward  \n",
       "genotype             flyname              velocity lambda time            \n",
       "F1 X154 x GMRSS00324 20141014_fly19_exp01 16.0     30.0   0.00  0.891260  \n",
       "                                                          0.01  0.891260  \n",
       "                                                          0.02  1.082504  \n",
       "                                                          0.03  1.033409  \n",
       "                                                          0.04  1.007641  "
      ]
     },
     "execution_count": 6,
     "metadata": {},
     "output_type": "execute_result"
    }
   ],
   "source": [
    "data_highres.head()"
   ]
  },
  {
   "cell_type": "code",
   "execution_count": 7,
   "metadata": {
    "collapsed": true
   },
   "outputs": [],
   "source": [
    "gt = ['F1 X154 x GMRSS00324']"
   ]
  },
  {
   "cell_type": "code",
   "execution_count": 8,
   "metadata": {},
   "outputs": [
    {
     "name": "stdout",
     "output_type": "stream",
     "text": [
      "Phi condition:\n",
      "F1 X154 x GMRSS00324: N=12\n",
      "Reverse Phi condition:\n",
      "F1 X154 x GMRSS00324: N=11\n"
     ]
    }
   ],
   "source": [
    "d1, d2 = data_phi.reset_index(), data_rphi.reset_index()\n",
    "\n",
    "print \"Phi condition:\"\n",
    "for g in gt:\n",
    "    n = len(d1[d1.genotype == g].flyname.unique())\n",
    "    print \"{0}: N={1}\".format(g, n)\n",
    "    \n",
    "print \"Reverse Phi condition:\"\n",
    "for g in gt:\n",
    "    n = len(d2[d2.genotype == g].flyname.unique())\n",
    "    print \"{0}: N={1}\".format(g, n)"
   ]
  },
  {
   "cell_type": "markdown",
   "metadata": {},
   "source": [
    "### Generic plot"
   ]
  },
  {
   "cell_type": "code",
   "execution_count": 93,
   "metadata": {
    "collapsed": true
   },
   "outputs": [],
   "source": [
    "def make_inset(ax):\n",
    "    \n",
    "    data = data_highres.reset_index()\n",
    "    data = data[(data[\"velocity\"] == 256) & (data[\"lambda\"].isin([90])) & (data.genotype.isin(gt))]\n",
    "#     data = data[(data[\"velocity\"] == 256) & (data.genotype.isin(gt))]\n",
    "\n",
    "    sb.tsplot(data, time=\"time\", unit=\"flyname\", condition=\"lambda\", value=\"rotation\",\n",
    "              ci=False, color=gt_colors, legend=False, err_kws={'edgecolor': 'none'},\n",
    "              ax=ax)\n",
    "    \n",
    "    ax.set_xlim([0.95, 1.49])\n",
    "    ax.set_ylim([-25, 30])\n",
    "\n",
    "    ax.set_ylabel(\"\")\n",
    "    ax.set_xlabel(\"\")\n",
    "    \n",
    "    ax.set_yticks([])\n",
    "    ax.set_xticks([])\n",
    "    \n",
    "    ax.plot([0.95, 1.49], [-24, -24], color=\"black\")\n",
    "    \n",
    "    ax.axvspan(1.0, 2.0, edgecolor='none', facecolor='gray', zorder=0, alpha=0.075)\n",
    "\n",
    "    add_refline(ax, horizontal=True)\n",
    "    \n",
    "    remove_axis(ax, x=True, y=True)"
   ]
  },
  {
   "cell_type": "code",
   "execution_count": 86,
   "metadata": {
    "collapsed": true
   },
   "outputs": [],
   "source": [
    "def make_trace_panel(data, genotypes, lam, vel, ax, ylim=[-200.0, 200.0], legend=False, title=\"\"):\n",
    "    \n",
    "    data = data.reset_index()\n",
    "    data = data[(data[\"velocity\"] == vel) & (data[\"lambda\"].isin(lam)) & (data.genotype.isin(genotypes))]\n",
    "                \n",
    "    sb.tsplot(data, time=\"time\", unit=\"flyname\", condition=\"lambda\", value=\"rotation\",\n",
    "              ci=standard_ci, color=gt_colors, legend=legend, err_kws={'edgecolor': 'none'},\n",
    "              ax=ax)\n",
    "    \n",
    "    ax.set_ylim(ylim)\n",
    "    ax.set_xlim([0.0, 3.5])\n",
    "    \n",
    "    if legend:\n",
    "        \n",
    "        hs, ls = ax.get_legend_handles_labels()\n",
    "        ls = [gt_alias[x] for x in ls]\n",
    "        \n",
    "        ax.legend_.remove()\n",
    "        ax.legend(hs, ls, loc=[0, 0.6], ncol=1)\n",
    "        ax.legend_.set_title(\"\")\n",
    "    \n",
    "    remove_axis(ax, x=True, y=True)\n",
    "    \n",
    "    ax.axvspan(1.0, 2.0, edgecolor='none', facecolor='gray', zorder=0, alpha=0.075)\n",
    "\n",
    "    l = ax.plot([0, 3.5], [0, 0], linestyle=\"--\", zorder=1, color=\"#444444\")\n",
    "    l[0].set_dashes([1,1])\n",
    "    \n",
    "    ax.set_title(title)"
   ]
  },
  {
   "cell_type": "code",
   "execution_count": 12,
   "metadata": {
    "collapsed": true
   },
   "outputs": [],
   "source": [
    "def make_summary_panel(data, genotypes, lam, ax, ylim=[-100, 100]):\n",
    "    \n",
    "    data = data.reset_index()\n",
    "    data = data[(data[\"lambda\"].isin(lam)) & (data.genotype.isin(genotypes))]\n",
    "        \n",
    "    sb.pointplot(\"velocity\", \"rotation\", hue=\"lambda\", data=data, palette=gt_colors,\n",
    "                 scale=0.75, ax=ax, ci=standard_ci)\n",
    "        \n",
    "    add_refline(ax, horizontal=True)\n",
    "    \n",
    "    ax.tick_params(axis='both', which='major', pad=2)\n",
    "    \n",
    "    ax.set_xlabel(u\"Pattern speed (°/s)\", labelpad=2)\n",
    "    ax.set_ylabel(u\"Turning speed (°/s)\", labelpad=2)\n",
    "    \n",
    "    ax.legend_.remove()\n",
    "    \n",
    "    ax.set_ylim(ylim)\n",
    "    \n",
    "    for label in ax.get_xticklabels():\n",
    "        label.set_rotation(45)\n",
    "        label.set_horizontalalignment('center')\n",
    "\n",
    "    yloc = mpl.ticker.MaxNLocator(5)\n",
    "    ax.yaxis.set_major_locator(yloc)\n",
    "    \n",
    "    ax.set_xticklabels([16, 32, 64, 128, 256])\n",
    "    \n",
    "    sb.despine(ax=ax)"
   ]
  },
  {
   "cell_type": "code",
   "execution_count": 13,
   "metadata": {
    "collapsed": true
   },
   "outputs": [],
   "source": [
    "def add_sidelabel(ax, label):\n",
    "    \n",
    "    ax.yaxis.set_visible(True)\n",
    "    ax.set_yticklabels([])\n",
    "    ax.set_yticks([])\n",
    "    ax.set_ylabel(label)"
   ]
  },
  {
   "cell_type": "code",
   "execution_count": 57,
   "metadata": {
    "collapsed": true
   },
   "outputs": [],
   "source": [
    "def behavior_figure():\n",
    "    \n",
    "    general_lambda_order = [30.0, 90.0]\n",
    "    \n",
    "    off = 0.9\n",
    "    off_v = -20.3\n",
    "    rows = [0, 2.4, 4.8, 7.9]\n",
    "    panelsize = (2, 2)\n",
    "\n",
    "    fig = sb.plt.figure(figsize=(4.5, 2.6))\n",
    "    \n",
    "    ylim = [-150, 375]\n",
    "    ylim_summary = [-120, 210]\n",
    "\n",
    "    # Phi Motion:\n",
    "    height = 24 + off_v\n",
    "    \n",
    "    ylim = [-50, 375]\n",
    "\n",
    "    ax = addaxis(fig, (off + rows[0], height), panelsize, letter=\"a\", nudge=0.0)\n",
    "    make_trace_panel(data_phi, gt, general_lambda_order, 16.0, ax, legend=True, ylim=ylim)\n",
    "    ax.set_title(u\"16 °/s\")\n",
    "    add_sidelabel(ax, \"Phi\")\n",
    "    \n",
    "    ax = addaxis(fig, (off + rows[1], height), panelsize, letter=\"\")\n",
    "    make_trace_panel(data_phi, gt, general_lambda_order, 64.0, ax, legend=False, ylim=ylim)\n",
    "    ax.set_title(u\"64 °/s\")\n",
    "    draw_reference(ax, (0.5, 240), (0.5, 75), (\"s\", u\"°/s\"), fontsize=5.0, lw=0.8)\n",
    "\n",
    "    ax = addaxis(fig, (off + rows[2], height), panelsize, letter=\"\")\n",
    "    make_trace_panel(data_phi, gt, general_lambda_order, 256.0, ax, legend=False, ylim=ylim)\n",
    "    ax.set_title(u\"256 °/s\")\n",
    "    \n",
    "    ax = addaxis(fig, (off + rows[3], height), panelsize, letter=\"b\", nudge=0.5)\n",
    "    make_summary_panel(evald_phi, gt, general_lambda_order, ax, ylim=ylim_summary)\n",
    "    ax.xaxis.set_visible(False)\n",
    "    \n",
    "    # RPhi Motion:\n",
    "    height = 21.5 + off_v\n",
    "    \n",
    "    ylim = [-150, 150]\n",
    "\n",
    "    ax = addaxis(fig, (off + rows[0], height), panelsize, letter=\"c\", nudge=0.0)\n",
    "    make_trace_panel(data_rphi, gt, general_lambda_order, 16.0, ax, legend=False, ylim=ylim)\n",
    "    add_sidelabel(ax, \"Reverse-phi\")\n",
    "    draw_reference(ax, (0.5, 70), (0.5, 50), (\"s\", u\"°/s\"), fontsize=5.0, lw=0.8)\n",
    "\n",
    "    ax = addaxis(fig, (off + rows[1], height), panelsize, letter=\"\")\n",
    "    make_trace_panel(data_rphi, gt, general_lambda_order, 64.0, ax, legend=False, ylim=ylim)\n",
    "\n",
    "    ax = addaxis(fig, (off + rows[2], height), panelsize, letter=\"\")\n",
    "    make_trace_panel(data_rphi, gt, general_lambda_order, 256.0, ax, legend=False, ylim=ylim)\n",
    "    ax.plot([0.95, 1.49], [-70, -70], color=\"black\")\n",
    "    \n",
    "    # Inset:\n",
    "    ax = addaxis(fig, (off + rows[1] + 1.9, height + 1.5), (0.9, 0.9), letter=\"\")\n",
    "    make_inset(ax)\n",
    "\n",
    "    ax = addaxis(fig, (off + rows[3], height), panelsize, letter=\"d\", nudge=0.5)\n",
    "    make_summary_panel(evald_rphi, gt, general_lambda_order, ax, ylim=ylim_summary)\n",
    "    \n",
    "    fig.set_frameon(False)\n",
    "    fig.savefig(\"../output/Fig3.tif\", format=\"tiff\", dpi=standard_dpi)"
   ]
  },
  {
   "cell_type": "markdown",
   "metadata": {},
   "source": [
    "### Plots"
   ]
  },
  {
   "cell_type": "code",
   "execution_count": 94,
   "metadata": {},
   "outputs": [
    {
     "data": {
      "image/png": "[encoded data removed]",
      "text/plain": [
       "<matplotlib.figure.Figure at 0x1229cc210>"
      ]
     },
     "metadata": {
      "image/png": {
       "height": 181,
       "width": 306
      }
     },
     "output_type": "display_data"
    }
   ],
   "source": [
    "behavior_figure()"
   ]
  }
 ],
 "metadata": {
  "anaconda-cloud": {},
  "kernelspec": {
   "display_name": "Python 2",
   "language": "python",
   "name": "python2"
  },
  "language_info": {
   "codemirror_mode": {
    "name": "ipython",
    "version": 2
   },
   "file_extension": ".py",
   "mimetype": "text/x-python",
   "name": "python",
   "nbconvert_exporter": "python",
   "pygments_lexer": "ipython2",
   "version": "2.7.13"
  }
 },
 "nbformat": 4,
 "nbformat_minor": 1
}
