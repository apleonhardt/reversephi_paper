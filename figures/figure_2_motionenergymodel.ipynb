{
 "cells": [
  {
   "cell_type": "markdown",
   "metadata": {},
   "source": [
    "# Figure 2: Motion energy & rectification"
   ]
  },
  {
   "cell_type": "code",
   "execution_count": 1080,
   "metadata": {
    "scrolled": true
   },
   "outputs": [
    {
     "name": "stdout",
     "output_type": "stream",
     "text": [
      "The autoreload extension is already loaded. To reload it, use:\n",
      "  %reload_ext autoreload\n"
     ]
    }
   ],
   "source": [
    "from setup_nb import *\n",
    "from detector.stimulus import FastDiscretePhi, FastSine"
   ]
  },
  {
   "cell_type": "markdown",
   "metadata": {},
   "source": [
    "### Test"
   ]
  },
  {
   "cell_type": "code",
   "execution_count": 902,
   "metadata": {
    "collapsed": true
   },
   "outputs": [],
   "source": [
    "def normalize(x):\n",
    "    return x - x.mean()"
   ]
  },
  {
   "cell_type": "code",
   "execution_count": 922,
   "metadata": {
    "collapsed": true
   },
   "outputs": [],
   "source": [
    "def get_spectrum(image, log=False, rectified=None):\n",
    "    \n",
    "    # Put image on global contrast scale:\n",
    "    image_ = normalize(image)\n",
    "    \n",
    "    # Rectification:\n",
    "    if rectified is not 0:\n",
    "        image_ = normalize(np.maximum(0, rectified * image_))\n",
    "    \n",
    "    # Get power spectrum:\n",
    "    m = np.abs(np.fft.fftshift(np.fft.fft2(image_)))**2\n",
    "    \n",
    "    # Convert do db scale:\n",
    "    if log:\n",
    "        m = 20 * np.log10(m + 0.001 * m.mean())\n",
    "        \n",
    "    # Extract leftward/rightward energy:\n",
    "    \n",
    "    idx1, idx2 = m.shape[0] // 2, m.shape[1] // 2\n",
    "    e1, e2 = m[:idx1, :idx2].mean(), m[:idx1, idx2+1:].mean()\n",
    "    \n",
    "    return m, e1, e2, image_"
   ]
  },
  {
   "cell_type": "code",
   "execution_count": 903,
   "metadata": {
    "collapsed": true
   },
   "outputs": [],
   "source": [
    "def noisegrating(ds=1.0, dt=0.01, vel=100.0, depth=20, duration=1.0, nd=False, recfield=180.0):\n",
    "    \n",
    "    stim = []\n",
    "    lambdas = np.random.uniform(ds * 2, ds * 20, size=depth)\n",
    "    phaseshifts = np.random.uniform(0, 360, size=depth)\n",
    "    \n",
    "    for lam, ps in zip(lambdas, phaseshifts):\n",
    "        grating = 1/ lam * FastSine(lam=lam, vel=vel, duration=duration, nd=nd, start=0.0, stop=duration, phaseshift=ps)\\\n",
    "            .render(recfield, ds, dt)\n",
    "        stim.append(grating)\n",
    "    \n",
    "    s = np.array(stim).mean(axis=0).squeeze()\n",
    "    n = max(np.abs(s.min()), np.abs(s.max()))\n",
    "    s = s / n\n",
    "    \n",
    "    return s"
   ]
  },
  {
   "cell_type": "code",
   "execution_count": 897,
   "metadata": {
    "collapsed": true
   },
   "outputs": [],
   "source": [
    "def get_spectra(stimulus, stimname):\n",
    "        \n",
    "    spectra = []\n",
    "    images = []\n",
    "    dfs = []\n",
    "    \n",
    "    for rect in [-1, 0, 1]:\n",
    "        power, left, right, image = get_spectrum(stimulus, log=False, rectified=rect)\n",
    "        spectra.append(power)\n",
    "        images.append(image)\n",
    "        \n",
    "        # Normalize energies:\n",
    "        maxval = np.maximum(left, right)\n",
    "        left, right = left / maxval, right / maxval\n",
    "        \n",
    "        dfs.append({\n",
    "                'Stimulus': stimname,\n",
    "                'Energy': left,\n",
    "                'Direction': 'Left',\n",
    "                'Rectification': rect\n",
    "            })\n",
    "\n",
    "        dfs.append({\n",
    "            'Stimulus': stimname,\n",
    "            'Energy': right,\n",
    "            'Direction': 'Right',\n",
    "            'Rectification': rect\n",
    "        })\n",
    "        \n",
    "    return np.array(images), np.array(spectra), pd.DataFrame(dfs)"
   ]
  },
  {
   "cell_type": "code",
   "execution_count": 931,
   "metadata": {
    "collapsed": true
   },
   "outputs": [],
   "source": [
    "# Stimuli:\n",
    "\n",
    "velocity = 60.0\n",
    "lam = 60.0\n",
    "duration = 1.00\n",
    "nd = False\n",
    "fov = 90.0\n",
    "dt = 0.01\n",
    "ds = 2.0\n",
    "\n",
    "dfs = []\n",
    "\n",
    "# Noise:\n",
    "stim1 = noisegrating(ds=ds, dt=dt, vel=velocity, depth=30, duration=duration, nd=nd, recfield=fov)\n",
    "images1, spectra1, df1 = get_spectra(stim1, \"Translating noise\")\n",
    "\n",
    "# Single sine:\n",
    "stim2 = FastSine(lam=lam, vel=velocity, duration=duration, start=0.0, stop=duration, nd=nd, phaseshift=0.0)\\\n",
    "    .render(recfield=fov, delta_phi=ds, dt=dt)\n",
    "images2, spectra2, df2 = get_spectra(stim2, \"Translating grating\")    \n",
    "\n",
    "# Discrete sine:\n",
    "stim3 = FastDiscretePhi(lam=lam, vel=velocity, duration=duration, start=0.0, stop=duration, flip=False, nd=nd)\\\n",
    "    .render(recfield=fov, delta_phi=ds, true_dt=dt)\n",
    "images3, spectra3, df3 = get_spectra(stim3, \"Discretized grating\")\n",
    "\n",
    "# Reverse-phi:\n",
    "stim4 = FastDiscretePhi(lam=lam, vel=velocity, duration=duration, start=0.0, stop=duration, flip=True, nd=nd)\\\n",
    "    .render(recfield=fov, delta_phi=ds, true_dt=dt)\n",
    "images4, spectra4, df4 = get_spectra(stim4, \"Reverse-phi stimulus\")\n",
    "\n",
    "df = pd.concat([df1, df2, df3, df4])"
   ]
  },
  {
   "cell_type": "markdown",
   "metadata": {},
   "source": [
    "### Panels"
   ]
  },
  {
   "cell_type": "code",
   "execution_count": 1088,
   "metadata": {
    "collapsed": true
   },
   "outputs": [],
   "source": [
    "def panel_stimulus(ax, stim):\n",
    "    \n",
    "    ax.imshow(stim.T, interpolation=\"nearest\", cmap=\"gray_r\", aspect=\"auto\",\n",
    "              vmin=-1, vmax=1, extent=[0, 90, 1, 0])\n",
    "    \n",
    "    ax.xaxis.set_ticks([0, 45, 90])\n",
    "    ax.yaxis.set_ticks([0, 0.5, 1.0])\n",
    "    \n",
    "    ax.set_xlabel(u\"Space (°)\", labelpad=2.0)\n",
    "    ax.set_ylabel(\"Time (s)\", labelpad=2.0)\n",
    "    \n",
    "    ax.tick_params(axis='both', which='major', pad=2)\n",
    "    \n",
    "    sb.despine(ax=ax)"
   ]
  },
  {
   "cell_type": "code",
   "execution_count": 1112,
   "metadata": {
    "collapsed": true
   },
   "outputs": [],
   "source": [
    "def panel_fourier(ax, spec):\n",
    "        \n",
    "    # Calculate boundaries:\n",
    "    b1 = np.fft.fftshift(np.fft.fftfreq(spec.shape[0], d=ds))\n",
    "    b2 = np.fft.fftshift(np.fft.fftfreq(spec.shape[1], d=dt))\n",
    "        \n",
    "    ax.imshow(np.sqrt(spec.T), interpolation=\"nearest\", cmap=\"gray_r\", aspect=\"auto\",\n",
    "              extent=[b2[0], b2[-1], b1[0], b1[-1]], vmin=0.0, vmax=110.0, zorder=0)\n",
    "    \n",
    "    ax.set_ylim([-0.05, 0.05])\n",
    "    ax.set_xlim([-20, 20])\n",
    "    \n",
    "    ax.xaxis.set_ticks([-20, 0, 20])\n",
    "    ax.yaxis.set_ticks([-0.05, 0, 0.05])\n",
    "    \n",
    "    ax.tick_params(axis='both', which='major', pad=2)\n",
    "    \n",
    "    ax.set_xlabel(u\"$\\mathregular{f_s}$ (cycles/°)\", labelpad=1.5)\n",
    "    ax.set_ylabel(\"$\\mathregular{f_t}$ (cycles/s)\", labelpad=-3)\n",
    "    \n",
    "    where = 0.0\n",
    "    \n",
    "    l = ax.plot(ax.get_xlim(), [where, where], linestyle=\"dotted\", zorder=1, color=\"#444444\")\n",
    "    l[0].set_dashes([1, 1])\n",
    "\n",
    "    l = ax.plot([where, where], ax.get_ylim(), linestyle=\"dotted\", zorder=1, color=\"#444444\")\n",
    "    l[0].set_dashes([1, 1])\n",
    "    \n",
    "    from matplotlib.patches import Rectangle\n",
    "    \n",
    "    myrect = Rectangle([1, 0.003], 18, 0.044, fill=None, alpha=1, zorder=2, color=gt_colors[\"PD\"], lw=1.0)\n",
    "    ax.add_patch(myrect)\n",
    "    \n",
    "    myrect = Rectangle([-19, 0.003], 18, 0.044, fill=None, alpha=1, zorder=2, color=gt_colors[\"ND\"], lw=1.0)\n",
    "    ax.add_patch(myrect)\n",
    "    \n",
    "    myrect = Rectangle([-19, -0.047], 18, 0.044, fill=None, alpha=1, zorder=2, color=gt_colors[\"PD\"], lw=1.0)\n",
    "    ax.add_patch(myrect)\n",
    "    \n",
    "    myrect = Rectangle([1, -0.047], 18, 0.044, fill=None, alpha=1, zorder=2, color=gt_colors[\"ND\"], lw=1.0)\n",
    "    ax.add_patch(myrect)\n",
    "    \n",
    "#     sb.plt.arrow(4, 0.04, 4, 0, head_width=0.005, head_length=1, fc=gt_colors[\"PD\"], ec=gt_colors[\"PD\"], lw=1.5)\n",
    "#     sb.plt.arrow(-12, 0.04, -4, 0, head_width=0.005, head_length=1, fc=gt_colors[\"ND\"], ec=gt_colors[\"ND\"], lw=1.5)\n",
    "\n",
    "    ax.annotate(\"\",\n",
    "                xy=(8, 0.04), xycoords='data',\n",
    "                xytext=(4, 0.04), textcoords='data',\n",
    "                arrowprops=dict(arrowstyle=\"-|>\", facecolor=gt_colors[\"PD\"], edgecolor=\"black\"))\n",
    "\n",
    "    ax.annotate(\"\",\n",
    "            xy=(-13, 0.04), xycoords='data',\n",
    "            xytext=(-19, 0.04), textcoords='data',\n",
    "            arrowprops=dict(arrowstyle=\"<|-\", facecolor=gt_colors[\"ND\"], edgecolor=\"black\"))\n",
    "    \n",
    "    sb.despine(ax=ax)"
   ]
  },
  {
   "cell_type": "code",
   "execution_count": 1089,
   "metadata": {
    "collapsed": true
   },
   "outputs": [],
   "source": [
    "def panel_energy(ax, df, stimid, legend=False):\n",
    "    \n",
    "    mydat = df[df.Stimulus == stimid]\n",
    "    \n",
    "    palette = {\n",
    "        'Left': gt_colors[\"ND\"],\n",
    "        'Right': gt_colors[\"PD\"],\n",
    "    }\n",
    "    \n",
    "    sb.barplot(x=\"Rectification\", y=\"Energy\", hue=\"Direction\", data=mydat, order=[0, 1, -1], #linewidth=0.0,\n",
    "               hue_order=[\"Right\", \"Left\"], palette=palette)\n",
    "    \n",
    "    sb.despine(ax=ax)\n",
    "    \n",
    "    ax.set_xlabel(\"Rectification\", labelpad=2.0)\n",
    "    ax.set_ylabel(\"Average energy\")\n",
    "    \n",
    "    ax.tick_params(axis='both', which='major', pad=2)\n",
    "\n",
    "    ax.set_ylim([-0.1, 1.1])\n",
    "    add_refline(ax, horizontal=True)\n",
    "    \n",
    "    ax.set_yticks([])\n",
    "    \n",
    "    ax.set_xticklabels([\"None\", \"ON\", \"OFF\"])\n",
    "    \n",
    "    ax.legend_.remove()\n",
    "    \n",
    "    ax.patch.set_alpha(0.0)"
   ]
  },
  {
   "cell_type": "code",
   "execution_count": 2,
   "metadata": {
    "collapsed": true
   },
   "outputs": [],
   "source": [
    "def illustration_figure():\n",
    "    \n",
    "    off = 1.4\n",
    "    off_v = -17.7\n",
    "    rows = [0, 2.8]\n",
    "    panelsize = (1.7, 1.7)\n",
    "    \n",
    "    fig = sb.plt.figure(figsize=[2.65, 3.5])\n",
    "#     fig.suptitle(\"Leonhardt et al. (2017): Figure 2\", fontsize=14)\n",
    "    \n",
    "    # Noise:\n",
    "    \n",
    "    height = 24 + off_v\n",
    "    \n",
    "    ax = addaxis(fig, (off + rows[0], height), panelsize, letter=\"a\", nudge=0.0)\n",
    "    panel_stimulus(ax, stim1)\n",
    "    remove_axis(ax, x=True)\n",
    "    \n",
    "    ax = addaxis(fig, (off + rows[1], height), panelsize, letter=\"b\", nudge=0.3)\n",
    "    panel_fourier(ax, spectra1[1, :, :])\n",
    "\n",
    "    # Discrete sine:\n",
    "    \n",
    "    height = 21.5 + off_v\n",
    "    \n",
    "    ax = addaxis(fig, (off + rows[0], height), panelsize, letter=\"c\", nudge=0.0)\n",
    "    panel_stimulus(ax, stim3)\n",
    "    remove_axis(ax, x=True)\n",
    "    \n",
    "    ax = addaxis(fig, (off + rows[1], height), panelsize, letter=\"\", nudge=0.0)\n",
    "    panel_energy(ax, df, \"Discretized grating\", legend=False)\n",
    "    remove_axis(ax, x=True)\n",
    "\n",
    "    # Discrete reverse:\n",
    "    \n",
    "    height = 19.15 + off_v\n",
    "    \n",
    "    ax = addaxis(fig, (off + rows[0], height), panelsize, letter=\"d\", nudge=0.0)\n",
    "    panel_stimulus(ax, stim4)\n",
    "    \n",
    "    ax = addaxis(fig, (off + rows[1], height), panelsize, letter=\"\", nudge=0.0)\n",
    "    panel_energy(ax, df, \"Reverse-phi stimulus\", legend=False)\n",
    "    \n",
    "    fig.set_frameon(False)\n",
    "    fig.savefig(\"../output/Fig2.tif\", format=\"tiff\", dpi=standard_dpi)"
   ]
  },
  {
   "cell_type": "markdown",
   "metadata": {},
   "source": [
    "### Plots"
   ]
  },
  {
   "cell_type": "code",
   "execution_count": 1115,
   "metadata": {},
   "outputs": [
    {
     "data": {
      "image/png": "[encoded data removed]",
      "text/plain": [
       "<matplotlib.figure.Figure at 0x125b98d90>"
      ]
     },
     "metadata": {
      "image/png": {
       "height": 440,
       "width": 298
      }
     },
     "output_type": "display_data"
    }
   ],
   "source": [
    "illustration_figure()"
   ]
  }
 ],
 "metadata": {
  "anaconda-cloud": {},
  "kernelspec": {
   "display_name": "Python 2",
   "language": "python",
   "name": "python2"
  },
  "language_info": {
   "codemirror_mode": {
    "name": "ipython",
    "version": 2
   },
   "file_extension": ".py",
   "mimetype": "text/x-python",
   "name": "python",
   "nbconvert_exporter": "python",
   "pygments_lexer": "ipython2",
   "version": "2.7.13"
  }
 },
 "nbformat": 4,
 "nbformat_minor": 1
}
